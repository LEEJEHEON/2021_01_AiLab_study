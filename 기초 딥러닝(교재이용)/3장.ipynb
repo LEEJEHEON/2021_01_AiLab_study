{
 "cells": [
  {
   "cell_type": "markdown",
   "metadata": {
    "id": "Au7CyLPE1ycx"
   },
   "source": [
    "<h1> 3장 신경망 시작하기"
   ]
  },
  {
   "cell_type": "markdown",
   "metadata": {
    "id": "snGKAhr-12N2"
   },
   "source": [
    "<h3> 3.1 신경망의 구조 </h3>\r\n",
    "- 네트워크(또는 모델)을 구성하는 층<br>\r\n",
    "- 입력 데이터와 그에 상응하는 타깃<br>\r\n",
    "- 학습에 사용할 피드백 신호를 정의하는 손실 함수 <br>\r\n",
    "- 학습 진행 방식을 결정하는 옵티마이저"
   ]
  },
  {
   "cell_type": "markdown",
   "metadata": {
    "id": "l7rsRdaw3YLU"
   },
   "source": [
    "<h4> 3.1.1 층: 딥러닝의 구성 단위 </h4>\r\n",
    "층 : 하나 이상의 텐서를 입력으로 받아 하나 이상의 텐서를 출력하는 데이터 처리  모듈 <br>\r\n",
    "가중치 : 확률적 경사 하강법에 의해 학습되는 하나 이상의 텐서 ( 학습된 지식 )<br>\r\n",
    "\r\n",
    "케라스에서는 모델에 추가된 층을 자동으로 상위 층의 크기에 맞춤\r\n"
   ]
  },
  {
   "cell_type": "markdown",
   "metadata": {
    "id": "ErS8iyPl705l"
   },
   "source": [
    "<h4> 3.1.2 모델: 층의 네트워크</h4>\r\n",
    "\r\n",
    "모델은 층으로 만든 비순환 유향 그래프(DAG)이다. <br>\r\n",
    "네트워크 구조는 가설공간 을 정의 <br>\r\n",
    "가설공간 : 어떤 문제를 해결하는데 필요한 가설들의 집합 <br>\r\n",
    "- 가능성 있는 공간을 사전에 정의하고 피드백 신호의 도움을 받아 입력 데이터에 대한 유용한 변환을 찾는 것 <br><br>\r\n",
    "\r\n",
    "연습을 해야만 적절한 신경망을 설계할 수 있는 기술을 갖추게 됨\r\n"
   ]
  },
  {
   "cell_type": "markdown",
   "metadata": {
    "id": "QcvdBPyRCqSR"
   },
   "source": [
    "<h4> 3.1.3 손실 함수와 옵티마이저 : 학습 과정을 조절하는 열쇠</h4>\r\n",
    "손실 함수와 옵티마이저를 결정해야함<br>\r\n",
    "여러 개의 출력을 내는 신경망은 여러 개의 손실 함수를 가질 수 있으나 경사 하강법 과정은 하나의 스칼라 손실 값을 기준으로 함 <br>\r\n",
    "- 따라서 모든 손실을 평균내어 하나의 스칼라양으로 합쳐짐<br><br>\r\n",
    "\r\n",
    "=> 문제에 맞는 올바른 목적 함수를 선택하는 것이 아주 중요<br>\r\n",
    "신경망은 단지 손실 함수를 최소화하기만 한다는 것"
   ]
  },
  {
   "cell_type": "markdown",
   "metadata": {
    "id": "lF7rrPnaGH9n"
   },
   "source": [
    "<h3> 3.2 케라스 소개 </h3>\r\n",
    "\r\n",
    "케라스는 거의 모든 종류의 딥러닝 모델을 간편하게 만들고 훈련시킬 수 있는 파이썬을 위한 **딥러닝 프레임워크** <br>\r\n",
    "<br>\r\n",
    "케라스 특징<br>\r\n",
    "1. 동일한 코드로 CPU와 GPU에서 실행할 수 있음 \r\n",
    "2. 사용하기 쉬운 API를 가지고 있어 딥러닝 모델의 프로토타입을 빠르게 만들 수 있음\r\n",
    "3. 합성곱 신경망, 순환 신경망을 지원하며 자유롭게 조합하여 사용 가능\r\n",
    "4. 다중 입력이나 다중 출력 모델, 층의 공유, 모델 공유 등 어떤 네트워크 구조 만들기 가능"
   ]
  },
  {
   "cell_type": "markdown",
   "metadata": {
    "id": "YrL7sZQ5I0Qy"
   },
   "source": [
    "<H4> 3.2.1 케라스, 텐서플로, 씨아노, CNTK </H4>\r\n",
    "케라스 : 딥러닝 모델을 만들기 위한 고수준의 구성 요소를 제공하는 모델 수준의 라이브러리 (텐서 조작 or 미분 같은 저수준 연산 안다룸) <br>\r\n",
    "- 대신 최적화되고 특화된 텐서 라이브러리 (백엔드 엔진)<br>\r\n",
    "- 모듈 구조로 구성되어 여러가지 백엔드 엔진이 연동됨<br>\r\n",
    "but 대부분의 딥러닝 작업에 텐서플로 백엔드가 기본으로 권장\r\n"
   ]
  },
  {
   "cell_type": "markdown",
   "metadata": {
    "id": "bN6Dwgm1KYtW"
   },
   "source": [
    "<h4> 3.2.2 케라스를 사용한 개발: 빠르게 둘러보기</h4>\r\n",
    "케라스 작업 흐름 <br>\r\n",
    "1. 훈련 데이터 정의 (test/train)\r\n",
    "2. 네트워크(모델) 정의\r\n",
    "3. 손실 함수. 옵티마이저, 모니터링을 위한 측정 지표 선택\r\n",
    "4. fit<br><br>\r\n",
    "\r\n",
    "모델 정의 <Br>\r\n",
    "Sequential 클래스 (층을 순서대로 쌓아올림) or 함수형 API(임의의 구조)\r\n"
   ]
  },
  {
   "cell_type": "markdown",
   "metadata": {
    "id": "ea1QWex1Vlip"
   },
   "source": [
    "<h3> 3.3 딥러닝 컴퓨터 셋팅 </h3>\r\n",
    "최신 NVIDIA GPU에서 딥러닝 코드를 실행하는 것을 권장 <BR>\r\n",
    "유닉스 (Unix) 운영체제를 사용하는 것이 좋음 (윈도 비추)<Br>\r\n",
    "GPU 웬만해서는 있는 것이 더 좋음 (NVIDIA 것으로)<BR>\r\n"
   ]
  },
  {
   "cell_type": "markdown",
   "metadata": {
    "id": "nDz8pzT4XhT8"
   },
   "source": [
    "----\r\n",
    "<H3> 3.4 영화 리뷰 분류 : 이진 분류 예제 </H3>\r\n",
    "\r\n",
    "리뷰 텍스트르르 기반으로 영화 리뷰를 긍정과 부정으로 분류하는 방법<BR><bR>\r\n",
    "\r\n",
    "IMDB 데이터셋 (인터넷 영화 데이터베이스) <BR>\r\n",
    "- 5만 개 (TEST : 25000, Train : 25000, 50% 긍정 50% 부정)"
   ]
  },
  {
   "cell_type": "code",
   "execution_count": null,
   "metadata": {
    "colab": {
     "base_uri": "https://localhost:8080/"
    },
    "id": "UTahCWInah3S",
    "outputId": "7d5c31e0-91a8-4f2e-f041-3bdcf3892968"
   },
   "outputs": [
    {
     "name": "stdout",
     "output_type": "stream",
     "text": [
      "Downloading data from https://storage.googleapis.com/tensorflow/tf-keras-datasets/imdb.npz\n",
      "17465344/17464789 [==============================] - 0s 0us/step\n"
     ]
    },
    {
     "name": "stderr",
     "output_type": "stream",
     "text": [
      "<string>:6: VisibleDeprecationWarning: Creating an ndarray from ragged nested sequences (which is a list-or-tuple of lists-or-tuples-or ndarrays with different lengths or shapes) is deprecated. If you meant to do this, you must specify 'dtype=object' when creating the ndarray\n",
      "/usr/local/lib/python3.6/dist-packages/tensorflow/python/keras/datasets/imdb.py:159: VisibleDeprecationWarning: Creating an ndarray from ragged nested sequences (which is a list-or-tuple of lists-or-tuples-or ndarrays with different lengths or shapes) is deprecated. If you meant to do this, you must specify 'dtype=object' when creating the ndarray\n",
      "  x_train, y_train = np.array(xs[:idx]), np.array(labels[:idx])\n",
      "/usr/local/lib/python3.6/dist-packages/tensorflow/python/keras/datasets/imdb.py:160: VisibleDeprecationWarning: Creating an ndarray from ragged nested sequences (which is a list-or-tuple of lists-or-tuples-or ndarrays with different lengths or shapes) is deprecated. If you meant to do this, you must specify 'dtype=object' when creating the ndarray\n",
      "  x_test, y_test = np.array(xs[idx:]), np.array(labels[idx:])\n"
     ]
    }
   ],
   "source": [
    "# 데이터 셋 로드\r\n",
    "from keras.datasets import imdb\r\n",
    "\r\n",
    "(train_data, train_labels), (test_data, test_labels) = imdb.load_data(num_words=10000)\r\n",
    "# num_word 는 훈련 데이터에서 가장 자주 나타나는 단어 1만 개만 사용하겠다는 의미\r\n"
   ]
  },
  {
   "cell_type": "code",
   "execution_count": null,
   "metadata": {
    "colab": {
     "base_uri": "https://localhost:8080/"
    },
    "id": "z09FJkxOhZ-U",
    "outputId": "9ed882d7-e142-431e-ac4b-b5c2c77725b6"
   },
   "outputs": [
    {
     "name": "stdout",
     "output_type": "stream",
     "text": [
      "Downloading data from https://storage.googleapis.com/tensorflow/tf-keras-datasets/imdb_word_index.json\n",
      "1646592/1641221 [==============================] - 0s 0us/step\n"
     ]
    }
   ],
   "source": [
    "#word_index 는 단어와 정수 인덱스를 매핑한 딕셔너리\r\n",
    "word_index = imdb.get_word_index()\r\n",
    "# 정수 인덱스와 단어를 매핑하도록 뒤집기\r\n",
    "reverse_word_index = dict([(value,key) for (key, value) in word_index.items()])\r\n",
    "decoded_review = ' '.join([reverse_word_index.get(i-3, '?') for i in train_data[0]])"
   ]
  },
  {
   "cell_type": "code",
   "execution_count": null,
   "metadata": {
    "id": "OCdVeK1UhlHR"
   },
   "outputs": [],
   "source": [
    "# 정수 시퀸스를 이진 행렬로 인코딩\r\n",
    "import numpy as np\r\n",
    "\r\n",
    "def vectorize_sequences(sequences, dimension=10000):\r\n",
    "  # 크기 (len(sequences), dimension)이고 모든 원소가 0인 행렬을 만듬\r\n",
    "  results = np.zeros((len(sequences), dimension)) \r\n",
    "  for i, sequence in enumerate(sequences):\r\n",
    "    # results[i] 에서 특정 인덱스의 위치를 1로 변환\r\n",
    "    results[i, sequence] = 1.\r\n",
    "  return results\r\n",
    "\r\n",
    "x_train = vectorize_sequences(train_data)\r\n",
    "x_test = vectorize_sequences(test_data)"
   ]
  },
  {
   "cell_type": "code",
   "execution_count": null,
   "metadata": {
    "colab": {
     "base_uri": "https://localhost:8080/"
    },
    "id": "mv6ZAtXKkM7j",
    "outputId": "b8643a26-f5fa-4d17-c10c-3b8253cd8b0d"
   },
   "outputs": [
    {
     "name": "stdout",
     "output_type": "stream",
     "text": [
      "[1, 14, 22, 16, 43, 530, 973, 1622, 1385, 65, 458, 4468, 66, 3941, 4, 173, 36, 256, 5, 25, 100, 43, 838, 112, 50, 670, 2, 9, 35, 480, 284, 5, 150, 4, 172, 112, 167, 2, 336, 385, 39, 4, 172, 4536, 1111, 17, 546, 38, 13, 447, 4, 192, 50, 16, 6, 147, 2025, 19, 14, 22, 4, 1920, 4613, 469, 4, 22, 71, 87, 12, 16, 43, 530, 38, 76, 15, 13, 1247, 4, 22, 17, 515, 17, 12, 16, 626, 18, 2, 5, 62, 386, 12, 8, 316, 8, 106, 5, 4, 2223, 5244, 16, 480, 66, 3785, 33, 4, 130, 12, 16, 38, 619, 5, 25, 124, 51, 36, 135, 48, 25, 1415, 33, 6, 22, 12, 215, 28, 77, 52, 5, 14, 407, 16, 82, 2, 8, 4, 107, 117, 5952, 15, 256, 4, 2, 7, 3766, 5, 723, 36, 71, 43, 530, 476, 26, 400, 317, 46, 7, 4, 2, 1029, 13, 104, 88, 4, 381, 15, 297, 98, 32, 2071, 56, 26, 141, 6, 194, 7486, 18, 4, 226, 22, 21, 134, 476, 26, 480, 5, 144, 30, 5535, 18, 51, 36, 28, 224, 92, 25, 104, 4, 226, 65, 16, 38, 1334, 88, 12, 16, 283, 5, 16, 4472, 113, 103, 32, 15, 16, 5345, 19, 178, 32]\n",
      "[0. 1. 1. ... 0. 0. 0.]\n"
     ]
    }
   ],
   "source": [
    "print(train_data[0])\r\n",
    "print(x_train[0])"
   ]
  },
  {
   "cell_type": "code",
   "execution_count": null,
   "metadata": {
    "colab": {
     "base_uri": "https://localhost:8080/",
     "height": 166
    },
    "id": "_lp_JhUQb7VV",
    "outputId": "cb034562-65ab-4ee6-f1df-bc1e4f117048"
   },
   "outputs": [
    {
     "ename": "AttributeError",
     "evalue": "ignored",
     "output_type": "error",
     "traceback": [
      "\u001b[0;31m---------------------------------------------------------------------------\u001b[0m",
      "\u001b[0;31mAttributeError\u001b[0m                            Traceback (most recent call last)",
      "\u001b[0;32m<ipython-input-14-a651e4c61085>\u001b[0m in \u001b[0;36m<module>\u001b[0;34m()\u001b[0m\n\u001b[0;32m----> 1\u001b[0;31m \u001b[0mx_train\u001b[0m\u001b[0;34m[\u001b[0m\u001b[0;36m0\u001b[0m\u001b[0;34m]\u001b[0m\u001b[0;34m.\u001b[0m\u001b[0mtype\u001b[0m\u001b[0;34m(\u001b[0m\u001b[0;34m)\u001b[0m\u001b[0;34m\u001b[0m\u001b[0;34m\u001b[0m\u001b[0m\n\u001b[0m",
      "\u001b[0;31mAttributeError\u001b[0m: 'numpy.ndarray' object has no attribute 'type'"
     ]
    }
   ],
   "source": [
    "x_train[0].type()\r\n"
   ]
  },
  {
   "cell_type": "code",
   "execution_count": null,
   "metadata": {
    "colab": {
     "base_uri": "https://localhost:8080/",
     "height": 218
    },
    "id": "nelz6L5Jkbxz",
    "outputId": "5d8c50ac-f06e-4d18-d083-6dccf563fa25"
   },
   "outputs": [
    {
     "ename": "AttributeError",
     "evalue": "ignored",
     "output_type": "error",
     "traceback": [
      "\u001b[0;31m---------------------------------------------------------------------------\u001b[0m",
      "\u001b[0;31mAttributeError\u001b[0m                            Traceback (most recent call last)",
      "\u001b[0;32m<ipython-input-15-3e601cab27ee>\u001b[0m in \u001b[0;36m<module>\u001b[0;34m()\u001b[0m\n\u001b[1;32m      3\u001b[0m \u001b[0;31m#y_test = np.asarray(test_labels).astype('float32')\u001b[0m\u001b[0;34m\u001b[0m\u001b[0;34m\u001b[0m\u001b[0;34m\u001b[0m\u001b[0m\n\u001b[1;32m      4\u001b[0m \u001b[0;34m\u001b[0m\u001b[0m\n\u001b[0;32m----> 5\u001b[0;31m \u001b[0my_train\u001b[0m \u001b[0;34m=\u001b[0m \u001b[0mnp\u001b[0m\u001b[0;34m.\u001b[0m\u001b[0mastype\u001b[0m\u001b[0;34m(\u001b[0m\u001b[0;34m'float32'\u001b[0m\u001b[0;34m)\u001b[0m\u001b[0;34m\u001b[0m\u001b[0;34m\u001b[0m\u001b[0m\n\u001b[0m\u001b[1;32m      6\u001b[0m \u001b[0my_test\u001b[0m \u001b[0;34m=\u001b[0m \u001b[0mnp\u001b[0m\u001b[0;34m.\u001b[0m\u001b[0mastype\u001b[0m\u001b[0;34m(\u001b[0m\u001b[0;34m'float32'\u001b[0m\u001b[0;34m)\u001b[0m\u001b[0;34m\u001b[0m\u001b[0;34m\u001b[0m\u001b[0m\n",
      "\u001b[0;31mAttributeError\u001b[0m: module 'numpy' has no attribute 'astype'"
     ]
    }
   ],
   "source": [
    "# 레이블도 변환 \r\n",
    "#y_train = np.asarray(train_labels).astype('float32')\r\n",
    "#y_test = np.asarray(test_labels).astype('float32')\r\n",
    "\r\n",
    "y_train = np.astype('float32')\r\n",
    "y_test = np.astype('float32')"
   ]
  },
  {
   "cell_type": "code",
   "execution_count": null,
   "metadata": {
    "id": "0KwGomMukybX"
   },
   "outputs": [],
   "source": [
    "# 모델 정의\r\n",
    "from keras import models\r\n",
    "from keras import layers\r\n",
    "\r\n",
    "model = models.Sequential()\r\n",
    "model.add(layers.Dense(16, activation='relu', input_shape=(10000,)))\r\n",
    "model.add(layers.Dense(16, activation='relu'))\r\n",
    "model.add(layers.Dense(1, activation='sigmoid'))"
   ]
  },
  {
   "cell_type": "code",
   "execution_count": null,
   "metadata": {
    "id": "EpZNzZZVlAIl"
   },
   "outputs": [],
   "source": [
    "# 모델 컴파일\r\n",
    "model.compile(optimizer='rmsprop',\r\n",
    "              loss='binary_crossentropy',\r\n",
    "              metrics=['accuracy'])"
   ]
  },
  {
   "cell_type": "code",
   "execution_count": null,
   "metadata": {
    "id": "jyqgOJA2qF7H"
   },
   "outputs": [],
   "source": [
    "# 검증 세트 준비\r\n",
    "x_val = x_train[:10000]\r\n",
    "partial_x_train = x_train[10000:]\r\n",
    "y_val = y_train[:10000]\r\n",
    "partial_y_train = y_train[10000:]"
   ]
  },
  {
   "cell_type": "code",
   "execution_count": null,
   "metadata": {
    "colab": {
     "base_uri": "https://localhost:8080/"
    },
    "id": "IgN-PPUyqNnK",
    "outputId": "5e13a3c3-b7df-4ddb-bc0a-c89026f2ef60"
   },
   "outputs": [
    {
     "name": "stdout",
     "output_type": "stream",
     "text": [
      "Epoch 1/20\n",
      "30/30 [==============================] - 3s 30ms/step - loss: 0.6040 - accuracy: 0.6959 - val_loss: 0.3943 - val_accuracy: 0.8707\n",
      "Epoch 2/20\n",
      "30/30 [==============================] - 1s 19ms/step - loss: 0.3302 - accuracy: 0.8985 - val_loss: 0.3039 - val_accuracy: 0.8895\n",
      "Epoch 3/20\n",
      "30/30 [==============================] - 1s 18ms/step - loss: 0.2362 - accuracy: 0.9230 - val_loss: 0.2783 - val_accuracy: 0.8921\n",
      "Epoch 4/20\n",
      "30/30 [==============================] - 1s 18ms/step - loss: 0.1781 - accuracy: 0.9435 - val_loss: 0.2814 - val_accuracy: 0.8857\n",
      "Epoch 5/20\n",
      "30/30 [==============================] - 1s 18ms/step - loss: 0.1459 - accuracy: 0.9532 - val_loss: 0.2797 - val_accuracy: 0.8884\n",
      "Epoch 6/20\n",
      "30/30 [==============================] - 1s 18ms/step - loss: 0.1178 - accuracy: 0.9657 - val_loss: 0.2922 - val_accuracy: 0.8884\n",
      "Epoch 7/20\n",
      "30/30 [==============================] - 1s 19ms/step - loss: 0.0968 - accuracy: 0.9713 - val_loss: 0.3288 - val_accuracy: 0.8773\n",
      "Epoch 8/20\n",
      "30/30 [==============================] - 1s 19ms/step - loss: 0.0757 - accuracy: 0.9801 - val_loss: 0.3318 - val_accuracy: 0.8829\n",
      "Epoch 9/20\n",
      "30/30 [==============================] - 1s 19ms/step - loss: 0.0615 - accuracy: 0.9847 - val_loss: 0.3630 - val_accuracy: 0.8808\n",
      "Epoch 10/20\n",
      "30/30 [==============================] - 1s 18ms/step - loss: 0.0494 - accuracy: 0.9889 - val_loss: 0.3845 - val_accuracy: 0.8780\n",
      "Epoch 11/20\n",
      "30/30 [==============================] - 1s 19ms/step - loss: 0.0411 - accuracy: 0.9908 - val_loss: 0.4181 - val_accuracy: 0.8773\n",
      "Epoch 12/20\n",
      "30/30 [==============================] - 1s 18ms/step - loss: 0.0306 - accuracy: 0.9947 - val_loss: 0.4501 - val_accuracy: 0.8753\n",
      "Epoch 13/20\n",
      "30/30 [==============================] - 1s 19ms/step - loss: 0.0260 - accuracy: 0.9950 - val_loss: 0.4878 - val_accuracy: 0.8688\n",
      "Epoch 14/20\n",
      "30/30 [==============================] - 1s 18ms/step - loss: 0.0193 - accuracy: 0.9972 - val_loss: 0.5180 - val_accuracy: 0.8698\n",
      "Epoch 15/20\n",
      "30/30 [==============================] - 1s 18ms/step - loss: 0.0144 - accuracy: 0.9980 - val_loss: 0.5578 - val_accuracy: 0.8688\n",
      "Epoch 16/20\n",
      "30/30 [==============================] - 1s 18ms/step - loss: 0.0118 - accuracy: 0.9983 - val_loss: 0.5959 - val_accuracy: 0.8703\n",
      "Epoch 17/20\n",
      "30/30 [==============================] - 1s 18ms/step - loss: 0.0064 - accuracy: 0.9999 - val_loss: 0.6229 - val_accuracy: 0.8674\n",
      "Epoch 18/20\n",
      "30/30 [==============================] - 1s 19ms/step - loss: 0.0093 - accuracy: 0.9981 - val_loss: 0.6653 - val_accuracy: 0.8681\n",
      "Epoch 19/20\n",
      "30/30 [==============================] - 1s 18ms/step - loss: 0.0040 - accuracy: 0.9998 - val_loss: 0.6921 - val_accuracy: 0.8641\n",
      "Epoch 20/20\n",
      "30/30 [==============================] - 1s 18ms/step - loss: 0.0046 - accuracy: 0.9994 - val_loss: 0.7374 - val_accuracy: 0.8659\n"
     ]
    }
   ],
   "source": [
    "#모델 훈련\r\n",
    "history = model.fit(partial_x_train,\r\n",
    "                    partial_y_train,\r\n",
    "                    epochs=20,\r\n",
    "                    batch_size =512,\r\n",
    "                    validation_data=(x_val,y_val))"
   ]
  },
  {
   "cell_type": "code",
   "execution_count": null,
   "metadata": {
    "colab": {
     "base_uri": "https://localhost:8080/",
     "height": 295
    },
    "id": "heyENzwfq9mF",
    "outputId": "73555d6c-f913-42f7-e904-491c0068e516"
   },
   "outputs": [
    {
     "data": {
      "image/png": "[encoded data removed]",
      "text/plain": [
       "<Figure size 432x288 with 1 Axes>"
      ]
     },
     "metadata": {
      "needs_background": "light",
      "tags": []
     },
     "output_type": "display_data"
    }
   ],
   "source": [
    "# 훈련과 검증 손실 그리기 \r\n",
    "import matplotlib.pyplot as plt\r\n",
    "\r\n",
    "history_dict = history.history\r\n",
    "loss = history_dict['loss']\r\n",
    "val_loss = history_dict['val_loss']\r\n",
    "\r\n",
    "epochs = range(1, len(loss)+1)\r\n",
    "\r\n",
    "plt.plot(epochs, loss, 'bo', label ='Training loss') # bo = 파란색 점\r\n",
    "plt.plot(epochs, val_loss, 'b', label = 'Validation loss') # b = 파란색 실선\r\n",
    "plt.title('Training and validation loss')\r\n",
    "plt.xlabel('Epochs')\r\n",
    "plt.ylabel('Loss')\r\n",
    "plt.legend()\r\n",
    "\r\n",
    "plt.show()"
   ]
  },
  {
   "cell_type": "code",
   "execution_count": null,
   "metadata": {
    "colab": {
     "base_uri": "https://localhost:8080/",
     "height": 295
    },
    "id": "kGYf5jSyseMq",
    "outputId": "a75e2f40-920c-41a8-a3f8-7c49be90c569"
   },
   "outputs": [
    {
     "data": {
      "image/png": "[encoded data removed]",
      "text/plain": [
       "<Figure size 432x288 with 1 Axes>"
      ]
     },
     "metadata": {
      "needs_background": "light",
      "tags": []
     },
     "output_type": "display_data"
    }
   ],
   "source": [
    "# 훈련과 검증 정확도 그리기\r\n",
    "plt.clf() # 그래프 초기화 \r\n",
    "\r\n",
    "acc = history_dict['accuracy']\r\n",
    "val_acc = history_dict['val_accuracy']\r\n",
    "\r\n",
    "plt.plot(epochs, acc, 'bo', label ='Training acc')\r\n",
    "plt.plot(epochs, val_acc, 'b', label = 'Validation acc')\r\n",
    "plt.title('Training and validation accuracy')\r\n",
    "plt.xlabel('Epochs')\r\n",
    "plt.ylabel('acc')\r\n",
    "plt.legend()\r\n",
    "\r\n",
    "plt.show()"
   ]
  },
  {
   "cell_type": "code",
   "execution_count": null,
   "metadata": {
    "colab": {
     "base_uri": "https://localhost:8080/"
    },
    "id": "jDh39qS4tCI6",
    "outputId": "6cae7817-a389-4eda-d016-553f914c71e6"
   },
   "outputs": [
    {
     "name": "stdout",
     "output_type": "stream",
     "text": [
      "Epoch 1/4\n",
      "49/49 [==============================] - 1s 12ms/step - loss: 0.5358 - accuracy: 0.7480\n",
      "Epoch 2/4\n",
      "49/49 [==============================] - 1s 12ms/step - loss: 0.2590 - accuracy: 0.9139\n",
      "Epoch 3/4\n",
      "49/49 [==============================] - 1s 12ms/step - loss: 0.1882 - accuracy: 0.9361\n",
      "Epoch 4/4\n",
      "49/49 [==============================] - 1s 11ms/step - loss: 0.1564 - accuracy: 0.9449\n",
      "782/782 [==============================] - 2s 2ms/step - loss: 0.2958 - accuracy: 0.8834\n"
     ]
    }
   ],
   "source": [
    "# 모델 처음부터 다시 훈련\r\n",
    "model = models.Sequential()\r\n",
    "model.add(layers.Dense(16, activation='relu', input_shape=(10000,)))\r\n",
    "model.add(layers.Dense(16, activation='relu'))\r\n",
    "model.add(layers.Dense(1, activation='sigmoid'))\r\n",
    "\r\n",
    "model.compile(optimizer='rmsprop',\r\n",
    "              loss='binary_crossentropy',\r\n",
    "              metrics=['accuracy'])\r\n",
    "\r\n",
    "model.fit(x_train,y_train,epochs=4, batch_size=512)\r\n",
    "results = model.evaluate(x_test, y_test)"
   ]
  },
  {
   "cell_type": "code",
   "execution_count": null,
   "metadata": {
    "colab": {
     "base_uri": "https://localhost:8080/"
    },
    "id": "oxDoE8uouI1z",
    "outputId": "313f0f3a-ed08-4242-b787-41fe5ad3392b"
   },
   "outputs": [
    {
     "name": "stdout",
     "output_type": "stream",
     "text": [
      "Epoch 1/4\n",
      "49/49 [==============================] - 1s 11ms/step - loss: 0.5385 - accuracy: 0.7437\n",
      "Epoch 2/4\n",
      "49/49 [==============================] - 1s 11ms/step - loss: 0.2922 - accuracy: 0.9031\n",
      "Epoch 3/4\n",
      "49/49 [==============================] - 1s 11ms/step - loss: 0.2220 - accuracy: 0.9275\n",
      "Epoch 4/4\n",
      "49/49 [==============================] - 1s 11ms/step - loss: 0.1840 - accuracy: 0.9384\n",
      "782/782 [==============================] - 2s 2ms/step - loss: 0.2826 - accuracy: 0.8859\n"
     ]
    }
   ],
   "source": [
    "# 추가 실험\r\n",
    "# 1개 은닉층 \r\n",
    "model = models.Sequential()\r\n",
    "model.add(layers.Dense(16, activation='relu', input_shape=(10000,)))\r\n",
    "model.add(layers.Dense(1, activation='sigmoid'))\r\n",
    "\r\n",
    "model.compile(optimizer='rmsprop',\r\n",
    "              loss='binary_crossentropy',\r\n",
    "              metrics=['accuracy'])\r\n",
    "\r\n",
    "model.fit(x_train,y_train,epochs=4, batch_size=512)\r\n",
    "results = model.evaluate(x_test, y_test)"
   ]
  },
  {
   "cell_type": "code",
   "execution_count": null,
   "metadata": {
    "colab": {
     "base_uri": "https://localhost:8080/"
    },
    "id": "P-DZ1ksAuwuK",
    "outputId": "9c85a15c-ab55-45e9-f0a3-78684cc738e5"
   },
   "outputs": [
    {
     "name": "stdout",
     "output_type": "stream",
     "text": [
      "Epoch 1/4\n",
      "49/49 [==============================] - 1s 12ms/step - loss: 0.5901 - accuracy: 0.6916\n",
      "Epoch 2/4\n",
      "49/49 [==============================] - 1s 12ms/step - loss: 0.3046 - accuracy: 0.9074\n",
      "Epoch 3/4\n",
      "49/49 [==============================] - 1s 12ms/step - loss: 0.2105 - accuracy: 0.9308\n",
      "Epoch 4/4\n",
      "49/49 [==============================] - 1s 12ms/step - loss: 0.1670 - accuracy: 0.9439\n",
      "782/782 [==============================] - 2s 2ms/step - loss: 0.3079 - accuracy: 0.8811\n"
     ]
    }
   ],
   "source": [
    "#3 개 은닉층\r\n",
    "model = models.Sequential()\r\n",
    "model.add(layers.Dense(16, activation='relu', input_shape=(10000,)))\r\n",
    "model.add(layers.Dense(16, activation='relu'))\r\n",
    "model.add(layers.Dense(16, activation='relu'))\r\n",
    "model.add(layers.Dense(1, activation='sigmoid'))\r\n",
    "\r\n",
    "model.compile(optimizer='rmsprop',\r\n",
    "              loss='binary_crossentropy',\r\n",
    "              metrics=['accuracy'])\r\n",
    "\r\n",
    "model.fit(x_train,y_train,epochs=4, batch_size=512)\r\n",
    "results = model.evaluate(x_test, y_test)"
   ]
  },
  {
   "cell_type": "code",
   "execution_count": null,
   "metadata": {
    "colab": {
     "base_uri": "https://localhost:8080/"
    },
    "id": "B3idDeXxu2-4",
    "outputId": "3223890e-3293-44ec-860c-bf07fac91417"
   },
   "outputs": [
    {
     "name": "stdout",
     "output_type": "stream",
     "text": [
      "Epoch 1/4\n",
      "49/49 [==============================] - 1s 11ms/step - loss: 0.5326 - accuracy: 0.7412\n",
      "Epoch 2/4\n",
      "49/49 [==============================] - 1s 12ms/step - loss: 0.2460 - accuracy: 0.9110\n",
      "Epoch 3/4\n",
      "49/49 [==============================] - 1s 11ms/step - loss: 0.1870 - accuracy: 0.9311\n",
      "Epoch 4/4\n",
      "49/49 [==============================] - 1s 12ms/step - loss: 0.1499 - accuracy: 0.9480\n",
      "782/782 [==============================] - 2s 2ms/step - loss: 0.3187 - accuracy: 0.8776\n"
     ]
    }
   ],
   "source": [
    "# 은닉 유닉 추가 \r\n",
    "model = models.Sequential()\r\n",
    "model.add(layers.Dense(32, activation='relu', input_shape=(10000,)))\r\n",
    "model.add(layers.Dense(32, activation='relu'))\r\n",
    "model.add(layers.Dense(1, activation='sigmoid'))\r\n",
    "\r\n",
    "model.compile(optimizer='rmsprop',\r\n",
    "              loss='binary_crossentropy',\r\n",
    "              metrics=['accuracy'])\r\n",
    "\r\n",
    "model.fit(x_train,y_train,epochs=4, batch_size=512)\r\n",
    "results = model.evaluate(x_test, y_test)"
   ]
  },
  {
   "cell_type": "code",
   "execution_count": null,
   "metadata": {
    "colab": {
     "base_uri": "https://localhost:8080/"
    },
    "id": "h8kOUNGpu-iF",
    "outputId": "62199f88-4795-4cd4-9c13-99cb8bf4ed51"
   },
   "outputs": [
    {
     "name": "stdout",
     "output_type": "stream",
     "text": [
      "Epoch 1/4\n",
      "49/49 [==============================] - 1s 11ms/step - loss: 0.1847 - accuracy: 0.7354\n",
      "Epoch 2/4\n",
      "49/49 [==============================] - 1s 11ms/step - loss: 0.0778 - accuracy: 0.9150\n",
      "Epoch 3/4\n",
      "49/49 [==============================] - 1s 12ms/step - loss: 0.0571 - accuracy: 0.9350\n",
      "Epoch 4/4\n",
      "49/49 [==============================] - 1s 11ms/step - loss: 0.0456 - accuracy: 0.9487\n",
      "782/782 [==============================] - 2s 2ms/step - loss: 0.0908 - accuracy: 0.8766\n"
     ]
    }
   ],
   "source": [
    "# 손실함수 변경\r\n",
    "model = models.Sequential()\r\n",
    "model.add(layers.Dense(16, activation='relu', input_shape=(10000,)))\r\n",
    "model.add(layers.Dense(16, activation='relu'))\r\n",
    "model.add(layers.Dense(1, activation='sigmoid'))\r\n",
    "\r\n",
    "model.compile(optimizer='rmsprop',\r\n",
    "              loss='mse',\r\n",
    "              metrics=['accuracy'])\r\n",
    "\r\n",
    "model.fit(x_train,y_train,epochs=4, batch_size=512)\r\n",
    "results = model.evaluate(x_test, y_test)"
   ]
  },
  {
   "cell_type": "code",
   "execution_count": null,
   "metadata": {
    "colab": {
     "base_uri": "https://localhost:8080/"
    },
    "id": "SW4ZLeqvvHAN",
    "outputId": "da18d2b2-f42a-416f-9564-fe399788743d"
   },
   "outputs": [
    {
     "name": "stdout",
     "output_type": "stream",
     "text": [
      "Epoch 1/4\n",
      "49/49 [==============================] - 1s 11ms/step - loss: 0.5449 - accuracy: 0.7561\n",
      "Epoch 2/4\n",
      "49/49 [==============================] - 1s 11ms/step - loss: 0.2689 - accuracy: 0.9126\n",
      "Epoch 3/4\n",
      "49/49 [==============================] - 1s 11ms/step - loss: 0.1856 - accuracy: 0.9381\n",
      "Epoch 4/4\n",
      "49/49 [==============================] - 1s 11ms/step - loss: 0.1460 - accuracy: 0.9520\n",
      "782/782 [==============================] - 2s 2ms/step - loss: 0.3233 - accuracy: 0.8772\n"
     ]
    }
   ],
   "source": [
    "# 활성화 함수 변경\r\n",
    "model = models.Sequential()\r\n",
    "model.add(layers.Dense(16, activation='tanh', input_shape=(10000,)))\r\n",
    "model.add(layers.Dense(16, activation='tanh'))\r\n",
    "model.add(layers.Dense(1, activation='sigmoid'))\r\n",
    "\r\n",
    "model.compile(optimizer='rmsprop',\r\n",
    "              loss='binary_crossentropy',\r\n",
    "              metrics=['accuracy'])\r\n",
    "\r\n",
    "model.fit(x_train,y_train,epochs=4, batch_size=512)\r\n",
    "results = model.evaluate(x_test, y_test)"
   ]
  },
  {
   "cell_type": "markdown",
   "metadata": {
    "id": "FGI07U-bvOsJ"
   },
   "source": [
    "-----\r\n",
    "<h3> 뉴스 기사 분류 : 다중 분류 문제 </h3>\r\n",
    "\r\n",
    "단일 레이블 다중 분류 : 각 데이터 포인트가 정확히 하나의 범주로 분류 (중복 x) <br>\r\n",
    "다중 레이블 다중 분류 : 각 데이터 포인트가 여러 개의 범주에 속함 (중복 o)<br><Br>\r\n",
    "\r\n",
    "**로이터 데이터 셋<br>**\r\n",
    "뉴스 기사와 토픽의 집합 <br>\r\n",
    "46개의 토픽, 각 토픽은 훈련 세트에 최소한 10개의 샘플"
   ]
  },
  {
   "cell_type": "code",
   "execution_count": null,
   "metadata": {
    "colab": {
     "base_uri": "https://localhost:8080/"
    },
    "id": "NgkYiFJbwPNr",
    "outputId": "7b0ae62c-01a0-4afb-8ff8-7a4c7a85bdde"
   },
   "outputs": [
    {
     "name": "stdout",
     "output_type": "stream",
     "text": [
      "Downloading data from https://storage.googleapis.com/tensorflow/tf-keras-datasets/reuters.npz\n",
      "2113536/2110848 [==============================] - 0s 0us/step\n"
     ]
    },
    {
     "name": "stderr",
     "output_type": "stream",
     "text": [
      "/usr/local/lib/python3.6/dist-packages/tensorflow/python/keras/datasets/reuters.py:148: VisibleDeprecationWarning: Creating an ndarray from ragged nested sequences (which is a list-or-tuple of lists-or-tuples-or ndarrays with different lengths or shapes) is deprecated. If you meant to do this, you must specify 'dtype=object' when creating the ndarray\n",
      "  x_train, y_train = np.array(xs[:idx]), np.array(labels[:idx])\n",
      "/usr/local/lib/python3.6/dist-packages/tensorflow/python/keras/datasets/reuters.py:149: VisibleDeprecationWarning: Creating an ndarray from ragged nested sequences (which is a list-or-tuple of lists-or-tuples-or ndarrays with different lengths or shapes) is deprecated. If you meant to do this, you must specify 'dtype=object' when creating the ndarray\n",
      "  x_test, y_test = np.array(xs[idx:]), np.array(labels[idx:])\n"
     ]
    }
   ],
   "source": [
    "# 데이터셋 로드\r\n",
    "from keras.datasets import reuters\r\n",
    "\r\n",
    "(train_data, train_labels), (test_data, test_labels) = reuters.load_data(num_words=10000)\r\n",
    "# 8982개 train / 2246개 test (20% 기본값)"
   ]
  },
  {
   "cell_type": "code",
   "execution_count": null,
   "metadata": {
    "id": "jzX18M2Swl_5"
   },
   "outputs": [],
   "source": [
    "# 정수 시퀸스를 이진 행렬로 인코딩\r\n",
    "import numpy as np\r\n",
    "\r\n",
    "def vectorize_sequences(sequences, dimension=10000):\r\n",
    "  # 크기 (len(sequences), dimension)이고 모든 원소가 0인 행렬을 만듬\r\n",
    "  results = np.zeros((len(sequences), dimension)) \r\n",
    "  for i, sequence in enumerate(sequences):\r\n",
    "    # results[i] 에서 특정 인덱스의 위치를 1로 변환\r\n",
    "    results[i, sequence] = 1.\r\n",
    "  return results\r\n",
    "\r\n",
    "x_train = vectorize_sequences(train_data)\r\n",
    "x_test = vectorize_sequences(test_data)"
   ]
  },
  {
   "cell_type": "code",
   "execution_count": null,
   "metadata": {
    "id": "ISkCqAE8xa1g"
   },
   "outputs": [],
   "source": [
    "# 레이블 원-핫 인코딩\r\n",
    "def to_one_hot(labels, dimension=46):\r\n",
    "  results= np.zeros((len(labels), dimension))\r\n",
    "  for i, label in enumerate(labels):\r\n",
    "    results[i,label] =1.\r\n",
    "  return results\r\n",
    "\r\n",
    "one_hot_train_labels = to_one_hot(train_labels)\r\n",
    "one_hot_test_labels = to_one_hot(test_labels)\r\n",
    "# to_categorical 내장 함수가 존재함"
   ]
  },
  {
   "cell_type": "code",
   "execution_count": null,
   "metadata": {
    "id": "5PI331JeyHzp"
   },
   "outputs": [],
   "source": [
    "# 모델 정의\r\n",
    "from keras import models\r\n",
    "from keras import layers\r\n",
    "\r\n",
    "model = models.Sequential()\r\n",
    "model.add(layers.Dense(64, activation='relu', input_shape=(10000,)))\r\n",
    "model.add(layers.Dense(64, activation='relu'))\r\n",
    "model.add(layers.Dense(46, activation='softmax'))"
   ]
  },
  {
   "cell_type": "code",
   "execution_count": null,
   "metadata": {
    "id": "FAGXHOXLy3Qa"
   },
   "outputs": [],
   "source": [
    "# 모델 컴파일\r\n",
    "model.compile(optimizer ='rmsprop',\r\n",
    "              loss='categorical_crossentropy',\r\n",
    "              metrics =['accuracy'])"
   ]
  },
  {
   "cell_type": "code",
   "execution_count": null,
   "metadata": {
    "id": "q5C73eqPzMjH"
   },
   "outputs": [],
   "source": [
    "# 검증 세트 준비\r\n",
    "x_val = x_train[:1000]\r\n",
    "partial_x_train = x_train[1000:]\r\n",
    "\r\n",
    "y_val = one_hot_train_labels[:1000]\r\n",
    "partial_y_train = one_hot_train_labels[1000:]"
   ]
  },
  {
   "cell_type": "code",
   "execution_count": null,
   "metadata": {
    "colab": {
     "base_uri": "https://localhost:8080/"
    },
    "id": "BULUxVobzgpm",
    "outputId": "8d647808-ea04-4256-cec5-00dad0d2cb3c"
   },
   "outputs": [
    {
     "name": "stdout",
     "output_type": "stream",
     "text": [
      "Epoch 1/20\n",
      "16/16 [==============================] - 1s 24ms/step - loss: 3.1029 - accuracy: 0.4111 - val_loss: 1.7484 - val_accuracy: 0.6310\n",
      "Epoch 2/20\n",
      "16/16 [==============================] - 0s 15ms/step - loss: 1.5291 - accuracy: 0.6810 - val_loss: 1.3026 - val_accuracy: 0.7160\n",
      "Epoch 3/20\n",
      "16/16 [==============================] - 0s 15ms/step - loss: 1.0547 - accuracy: 0.7775 - val_loss: 1.1364 - val_accuracy: 0.7630\n",
      "Epoch 4/20\n",
      "16/16 [==============================] - 0s 28ms/step - loss: 0.8362 - accuracy: 0.8255 - val_loss: 1.0233 - val_accuracy: 0.7850\n",
      "Epoch 5/20\n",
      "16/16 [==============================] - 0s 15ms/step - loss: 0.6753 - accuracy: 0.8648 - val_loss: 0.9616 - val_accuracy: 0.8010\n",
      "Epoch 6/20\n",
      "16/16 [==============================] - 0s 15ms/step - loss: 0.5146 - accuracy: 0.8979 - val_loss: 0.9099 - val_accuracy: 0.8120\n",
      "Epoch 7/20\n",
      "16/16 [==============================] - 0s 15ms/step - loss: 0.4355 - accuracy: 0.9124 - val_loss: 0.8959 - val_accuracy: 0.8170\n",
      "Epoch 8/20\n",
      "16/16 [==============================] - 0s 14ms/step - loss: 0.3373 - accuracy: 0.9290 - val_loss: 0.8889 - val_accuracy: 0.8210\n",
      "Epoch 9/20\n",
      "16/16 [==============================] - 0s 15ms/step - loss: 0.2790 - accuracy: 0.9436 - val_loss: 0.8898 - val_accuracy: 0.8180\n",
      "Epoch 10/20\n",
      "16/16 [==============================] - 0s 15ms/step - loss: 0.2305 - accuracy: 0.9487 - val_loss: 0.8930 - val_accuracy: 0.8230\n",
      "Epoch 11/20\n",
      "16/16 [==============================] - 0s 15ms/step - loss: 0.1989 - accuracy: 0.9541 - val_loss: 0.8980 - val_accuracy: 0.8320\n",
      "Epoch 12/20\n",
      "16/16 [==============================] - 0s 15ms/step - loss: 0.1810 - accuracy: 0.9538 - val_loss: 0.9264 - val_accuracy: 0.8240\n",
      "Epoch 13/20\n",
      "16/16 [==============================] - 0s 14ms/step - loss: 0.1551 - accuracy: 0.9562 - val_loss: 0.9577 - val_accuracy: 0.8110\n",
      "Epoch 14/20\n",
      "16/16 [==============================] - 0s 15ms/step - loss: 0.1483 - accuracy: 0.9559 - val_loss: 0.9460 - val_accuracy: 0.8200\n",
      "Epoch 15/20\n",
      "16/16 [==============================] - 0s 14ms/step - loss: 0.1242 - accuracy: 0.9598 - val_loss: 1.0595 - val_accuracy: 0.7920\n",
      "Epoch 16/20\n",
      "16/16 [==============================] - 0s 15ms/step - loss: 0.1243 - accuracy: 0.9609 - val_loss: 1.0027 - val_accuracy: 0.8120\n",
      "Epoch 17/20\n",
      "16/16 [==============================] - 0s 14ms/step - loss: 0.1150 - accuracy: 0.9612 - val_loss: 1.0177 - val_accuracy: 0.8050\n",
      "Epoch 18/20\n",
      "16/16 [==============================] - 0s 15ms/step - loss: 0.1088 - accuracy: 0.9627 - val_loss: 1.0326 - val_accuracy: 0.8080\n",
      "Epoch 19/20\n",
      "16/16 [==============================] - 0s 15ms/step - loss: 0.1014 - accuracy: 0.9645 - val_loss: 1.0393 - val_accuracy: 0.8180\n",
      "Epoch 20/20\n",
      "16/16 [==============================] - 0s 15ms/step - loss: 0.0995 - accuracy: 0.9626 - val_loss: 1.0512 - val_accuracy: 0.8140\n"
     ]
    }
   ],
   "source": [
    "# 모델 훈련\r\n",
    "history = model.fit(partial_x_train,\r\n",
    "                    partial_y_train,\r\n",
    "                    epochs = 20,\r\n",
    "                    batch_size =512,\r\n",
    "                    validation_data = (x_val,y_val))"
   ]
  },
  {
   "cell_type": "code",
   "execution_count": null,
   "metadata": {
    "colab": {
     "base_uri": "https://localhost:8080/",
     "height": 295
    },
    "id": "kjnBi4PCzvx4",
    "outputId": "4eec0450-b39e-476f-d447-821f8378eb9d"
   },
   "outputs": [
    {
     "data": {
      "image/png": "[encoded data removed]",
      "text/plain": [
       "<Figure size 432x288 with 1 Axes>"
      ]
     },
     "metadata": {
      "needs_background": "light",
      "tags": []
     },
     "output_type": "display_data"
    }
   ],
   "source": [
    "# 훈련과 검증 손실 그리기 \r\n",
    "import matplotlib.pyplot as plt\r\n",
    "\r\n",
    "plt.clf()\r\n",
    "loss = history.history['loss']\r\n",
    "val_loss = history.history['val_loss']\r\n",
    "\r\n",
    "epochs = range(1, len(loss)+1)\r\n",
    "\r\n",
    "plt.plot(epochs, loss, 'bo', label ='Training loss') # bo = 파란색 점\r\n",
    "plt.plot(epochs, val_loss, 'b', label = 'Validation loss') # b = 파란색 실선\r\n",
    "plt.title('Training and validation loss')\r\n",
    "plt.xlabel('Epochs')\r\n",
    "plt.ylabel('Loss')\r\n",
    "plt.legend()\r\n",
    "\r\n",
    "plt.show()"
   ]
  },
  {
   "cell_type": "code",
   "execution_count": null,
   "metadata": {
    "colab": {
     "base_uri": "https://localhost:8080/",
     "height": 295
    },
    "id": "I3F71RAbz8_L",
    "outputId": "2dafb3c6-d5f6-49de-8ae4-79e8a1c985a1"
   },
   "outputs": [
    {
     "data": {
      "image/png": "[encoded data removed]",
      "text/plain": [
       "<Figure size 432x288 with 1 Axes>"
      ]
     },
     "metadata": {
      "needs_background": "light",
      "tags": []
     },
     "output_type": "display_data"
    }
   ],
   "source": [
    "# 훈련과 검증 정확도 그리기\r\n",
    "plt.clf() # 그래프 초기화 \r\n",
    "\r\n",
    "acc = history.history['accuracy']\r\n",
    "val_acc = history.history['val_accuracy']\r\n",
    "\r\n",
    "plt.plot(epochs, acc, 'bo', label ='Training acc')\r\n",
    "plt.plot(epochs, val_acc, 'b', label = 'Validation acc')\r\n",
    "plt.title('Training and validation accuracy')\r\n",
    "plt.xlabel('Epochs')\r\n",
    "plt.ylabel('acc')\r\n",
    "plt.legend()\r\n",
    "\r\n",
    "plt.show()"
   ]
  },
  {
   "cell_type": "code",
   "execution_count": null,
   "metadata": {
    "colab": {
     "base_uri": "https://localhost:8080/"
    },
    "id": "6NgGM65Z0bsS",
    "outputId": "c9969c6b-05e8-43cd-e9a5-4b1a1eda0878"
   },
   "outputs": [
    {
     "name": "stdout",
     "output_type": "stream",
     "text": [
      "Epoch 1/9\n",
      "16/16 [==============================] - 1s 24ms/step - loss: 3.1581 - accuracy: 0.2689 - val_loss: 1.8633 - val_accuracy: 0.6400\n",
      "Epoch 2/9\n",
      "16/16 [==============================] - 0s 15ms/step - loss: 1.6170 - accuracy: 0.6839 - val_loss: 1.3608 - val_accuracy: 0.7160\n",
      "Epoch 3/9\n",
      "16/16 [==============================] - 0s 15ms/step - loss: 1.1223 - accuracy: 0.7589 - val_loss: 1.1748 - val_accuracy: 0.7300\n",
      "Epoch 4/9\n",
      "16/16 [==============================] - 0s 15ms/step - loss: 0.8709 - accuracy: 0.8112 - val_loss: 1.0700 - val_accuracy: 0.7760\n",
      "Epoch 5/9\n",
      "16/16 [==============================] - 0s 15ms/step - loss: 0.7017 - accuracy: 0.8509 - val_loss: 0.9854 - val_accuracy: 0.7960\n",
      "Epoch 6/9\n",
      "16/16 [==============================] - 0s 15ms/step - loss: 0.5607 - accuracy: 0.8784 - val_loss: 0.9385 - val_accuracy: 0.8010\n",
      "Epoch 7/9\n",
      "16/16 [==============================] - 0s 15ms/step - loss: 0.4300 - accuracy: 0.9137 - val_loss: 0.9006 - val_accuracy: 0.8150\n",
      "Epoch 8/9\n",
      "16/16 [==============================] - 0s 15ms/step - loss: 0.3661 - accuracy: 0.9254 - val_loss: 0.9020 - val_accuracy: 0.8160\n",
      "Epoch 9/9\n",
      "16/16 [==============================] - 0s 14ms/step - loss: 0.2932 - accuracy: 0.9406 - val_loss: 0.8940 - val_accuracy: 0.8210\n"
     ]
    }
   ],
   "source": [
    "# 모델 처음부터 다시 훈련\r\n",
    "\r\n",
    "model = models.Sequential()\r\n",
    "model.add(layers.Dense(64, activation='relu', input_shape=(10000,)))\r\n",
    "model.add(layers.Dense(64, activation='relu'))\r\n",
    "model.add(layers.Dense(46, activation='softmax'))\r\n",
    "\r\n",
    "# 모델 컴파일\r\n",
    "model.compile(optimizer ='rmsprop',\r\n",
    "              loss='categorical_crossentropy',\r\n",
    "              metrics =['accuracy'])\r\n",
    "\r\n",
    "# 모델 훈련\r\n",
    "history = model.fit(partial_x_train,\r\n",
    "                    partial_y_train,\r\n",
    "                    epochs = 9,\r\n",
    "                    batch_size =512,\r\n",
    "                    validation_data = (x_val,y_val))"
   ]
  },
  {
   "cell_type": "code",
   "execution_count": null,
   "metadata": {
    "colab": {
     "base_uri": "https://localhost:8080/"
    },
    "id": "GGo1O2l00t6T",
    "outputId": "f368e206-f0d8-4f47-a924-9987f3a8077a"
   },
   "outputs": [
    {
     "data": {
      "text/plain": [
       "[0.32331570982933044, 0.877240002155304]"
      ]
     },
     "execution_count": 44,
     "metadata": {
      "tags": []
     },
     "output_type": "execute_result"
    }
   ],
   "source": [
    "# 최종 결과 \r\n",
    "results"
   ]
  },
  {
   "cell_type": "code",
   "execution_count": null,
   "metadata": {
    "colab": {
     "base_uri": "https://localhost:8080/"
    },
    "id": "7A_ne0YC0zlL",
    "outputId": "1b38fa45-dbf1-4c4a-abfd-bce86e493dd5"
   },
   "outputs": [
    {
     "data": {
      "text/plain": [
       "3"
      ]
     },
     "execution_count": 47,
     "metadata": {
      "tags": []
     },
     "output_type": "execute_result"
    }
   ],
   "source": [
    "# 새로운 데이터에 대해 예측\r\n",
    "predictions = model.predict(x_test)\r\n",
    "np.argmax(predictions[0])"
   ]
  },
  {
   "cell_type": "code",
   "execution_count": null,
   "metadata": {
    "colab": {
     "base_uri": "https://localhost:8080/"
    },
    "id": "-GbLK9Z81Srw",
    "outputId": "dea70cef-20e0-4409-a00b-0d05bdfb2017"
   },
   "outputs": [
    {
     "name": "stdout",
     "output_type": "stream",
     "text": [
      "Epoch 1/9\n",
      "16/16 [==============================] - 1s 24ms/step - loss: 3.4244 - accuracy: 0.1478 - val_loss: 2.7442 - val_accuracy: 0.2490\n",
      "Epoch 2/9\n",
      "16/16 [==============================] - 0s 26ms/step - loss: 2.5244 - accuracy: 0.2589 - val_loss: 2.2660 - val_accuracy: 0.2850\n",
      "Epoch 3/9\n",
      "16/16 [==============================] - 0s 14ms/step - loss: 2.0746 - accuracy: 0.3973 - val_loss: 1.9556 - val_accuracy: 0.5850\n",
      "Epoch 4/9\n",
      "16/16 [==============================] - 0s 15ms/step - loss: 1.7687 - accuracy: 0.5909 - val_loss: 1.7512 - val_accuracy: 0.6000\n",
      "Epoch 5/9\n",
      "16/16 [==============================] - 0s 15ms/step - loss: 1.5244 - accuracy: 0.6445 - val_loss: 1.6343 - val_accuracy: 0.6300\n",
      "Epoch 6/9\n",
      "16/16 [==============================] - 0s 15ms/step - loss: 1.3711 - accuracy: 0.6711 - val_loss: 1.5313 - val_accuracy: 0.6580\n",
      "Epoch 7/9\n",
      "16/16 [==============================] - 0s 15ms/step - loss: 1.2440 - accuracy: 0.6975 - val_loss: 1.4879 - val_accuracy: 0.6710\n",
      "Epoch 8/9\n",
      "16/16 [==============================] - 0s 15ms/step - loss: 1.1714 - accuracy: 0.7210 - val_loss: 1.4366 - val_accuracy: 0.6890\n",
      "Epoch 9/9\n",
      "16/16 [==============================] - 0s 14ms/step - loss: 1.1023 - accuracy: 0.7293 - val_loss: 1.4119 - val_accuracy: 0.6890\n"
     ]
    }
   ],
   "source": [
    "# 병목있는 모델\r\n",
    "model = models.Sequential()\r\n",
    "model.add(layers.Dense(64, activation='relu', input_shape=(10000,)))\r\n",
    "model.add(layers.Dense(4, activation='relu'))\r\n",
    "model.add(layers.Dense(46, activation='softmax'))\r\n",
    "\r\n",
    "# 모델 컴파일\r\n",
    "model.compile(optimizer ='rmsprop',\r\n",
    "              loss='categorical_crossentropy',\r\n",
    "              metrics =['accuracy'])\r\n",
    "\r\n",
    "# 모델 훈련\r\n",
    "history = model.fit(partial_x_train,\r\n",
    "                    partial_y_train,\r\n",
    "                    epochs = 9,\r\n",
    "                    batch_size =512,\r\n",
    "                    validation_data = (x_val,y_val))"
   ]
  },
  {
   "cell_type": "code",
   "execution_count": null,
   "metadata": {
    "colab": {
     "base_uri": "https://localhost:8080/"
    },
    "id": "2jK_t0DE18ln",
    "outputId": "6438c7a6-6ca1-48ef-e276-b488c1f18173"
   },
   "outputs": [
    {
     "name": "stdout",
     "output_type": "stream",
     "text": [
      "Epoch 1/9\n",
      "16/16 [==============================] - 1s 24ms/step - loss: 3.4828 - accuracy: 0.3141 - val_loss: 2.4536 - val_accuracy: 0.6100\n",
      "Epoch 2/9\n",
      "16/16 [==============================] - 0s 15ms/step - loss: 2.1885 - accuracy: 0.6393 - val_loss: 1.7365 - val_accuracy: 0.6560\n",
      "Epoch 3/9\n",
      "16/16 [==============================] - 0s 15ms/step - loss: 1.5581 - accuracy: 0.7052 - val_loss: 1.4248 - val_accuracy: 0.7110\n",
      "Epoch 4/9\n",
      "16/16 [==============================] - 0s 15ms/step - loss: 1.2176 - accuracy: 0.7495 - val_loss: 1.2568 - val_accuracy: 0.7210\n",
      "Epoch 5/9\n",
      "16/16 [==============================] - 0s 14ms/step - loss: 1.0409 - accuracy: 0.7683 - val_loss: 1.1623 - val_accuracy: 0.7370\n",
      "Epoch 6/9\n",
      "16/16 [==============================] - 0s 15ms/step - loss: 0.9013 - accuracy: 0.7973 - val_loss: 1.0863 - val_accuracy: 0.7570\n",
      "Epoch 7/9\n",
      "16/16 [==============================] - 0s 15ms/step - loss: 0.7622 - accuracy: 0.8288 - val_loss: 1.0380 - val_accuracy: 0.7620\n",
      "Epoch 8/9\n",
      "16/16 [==============================] - 0s 15ms/step - loss: 0.7060 - accuracy: 0.8351 - val_loss: 0.9939 - val_accuracy: 0.7750\n",
      "Epoch 9/9\n",
      "16/16 [==============================] - 0s 14ms/step - loss: 0.5822 - accuracy: 0.8725 - val_loss: 0.9733 - val_accuracy: 0.7810\n"
     ]
    }
   ],
   "source": [
    "# 추가 실험 \r\n",
    "# 32개 층\r\n",
    "model = models.Sequential()\r\n",
    "model.add(layers.Dense(32, activation='relu', input_shape=(10000,)))\r\n",
    "model.add(layers.Dense(32, activation='relu'))\r\n",
    "model.add(layers.Dense(46, activation='softmax'))\r\n",
    "\r\n",
    "# 모델 컴파일\r\n",
    "model.compile(optimizer ='rmsprop',\r\n",
    "              loss='categorical_crossentropy',\r\n",
    "              metrics =['accuracy'])\r\n",
    "\r\n",
    "# 모델 훈련\r\n",
    "history = model.fit(partial_x_train,\r\n",
    "                    partial_y_train,\r\n",
    "                    epochs = 9,\r\n",
    "                    batch_size =512,\r\n",
    "                    validation_data = (x_val,y_val))"
   ]
  },
  {
   "cell_type": "code",
   "execution_count": null,
   "metadata": {
    "colab": {
     "base_uri": "https://localhost:8080/"
    },
    "id": "1ZywCGRx2Exq",
    "outputId": "70356275-766b-4e56-9ef4-934a9a183980"
   },
   "outputs": [
    {
     "name": "stdout",
     "output_type": "stream",
     "text": [
      "Epoch 1/9\n",
      "16/16 [==============================] - 1s 23ms/step - loss: 2.8843 - accuracy: 0.4260 - val_loss: 1.4028 - val_accuracy: 0.6730\n",
      "Epoch 2/9\n",
      "16/16 [==============================] - 0s 15ms/step - loss: 1.1763 - accuracy: 0.7415 - val_loss: 1.1428 - val_accuracy: 0.7510\n",
      "Epoch 3/9\n",
      "16/16 [==============================] - 0s 15ms/step - loss: 0.7912 - accuracy: 0.8270 - val_loss: 0.9638 - val_accuracy: 0.7980\n",
      "Epoch 4/9\n",
      "16/16 [==============================] - 0s 15ms/step - loss: 0.5590 - accuracy: 0.8901 - val_loss: 1.0061 - val_accuracy: 0.7670\n",
      "Epoch 5/9\n",
      "16/16 [==============================] - 0s 15ms/step - loss: 0.4313 - accuracy: 0.9119 - val_loss: 0.8483 - val_accuracy: 0.8170\n",
      "Epoch 6/9\n",
      "16/16 [==============================] - 0s 14ms/step - loss: 0.3170 - accuracy: 0.9335 - val_loss: 0.8893 - val_accuracy: 0.8120\n",
      "Epoch 7/9\n",
      "16/16 [==============================] - 0s 15ms/step - loss: 0.2587 - accuracy: 0.9422 - val_loss: 0.8995 - val_accuracy: 0.8000\n",
      "Epoch 8/9\n",
      "16/16 [==============================] - 0s 15ms/step - loss: 0.1934 - accuracy: 0.9519 - val_loss: 0.9779 - val_accuracy: 0.8010\n",
      "Epoch 9/9\n",
      "16/16 [==============================] - 0s 14ms/step - loss: 0.1682 - accuracy: 0.9564 - val_loss: 0.9236 - val_accuracy: 0.8160\n"
     ]
    }
   ],
   "source": [
    "# 128개 층\r\n",
    "model = models.Sequential()\r\n",
    "model.add(layers.Dense(128, activation='relu', input_shape=(10000,)))\r\n",
    "model.add(layers.Dense(128, activation='relu'))\r\n",
    "model.add(layers.Dense(46, activation='softmax'))\r\n",
    "\r\n",
    "# 모델 컴파일\r\n",
    "model.compile(optimizer ='rmsprop',\r\n",
    "              loss='categorical_crossentropy',\r\n",
    "              metrics =['accuracy'])\r\n",
    "\r\n",
    "# 모델 훈련\r\n",
    "history = model.fit(partial_x_train,\r\n",
    "                    partial_y_train,\r\n",
    "                    epochs = 9,\r\n",
    "                    batch_size =512,\r\n",
    "                    validation_data = (x_val,y_val))"
   ]
  },
  {
   "cell_type": "code",
   "execution_count": null,
   "metadata": {
    "colab": {
     "base_uri": "https://localhost:8080/"
    },
    "id": "cbneqKUM2KtI",
    "outputId": "66cc9a55-17a4-4ebe-b971-4c1ccdefe1ac"
   },
   "outputs": [
    {
     "name": "stdout",
     "output_type": "stream",
     "text": [
      "Epoch 1/9\n",
      "16/16 [==============================] - 1s 24ms/step - loss: 3.1009 - accuracy: 0.4153 - val_loss: 1.6206 - val_accuracy: 0.6540\n",
      "Epoch 2/9\n",
      "16/16 [==============================] - 0s 15ms/step - loss: 1.4585 - accuracy: 0.6834 - val_loss: 1.2799 - val_accuracy: 0.7040\n",
      "Epoch 3/9\n",
      "16/16 [==============================] - 0s 15ms/step - loss: 1.0567 - accuracy: 0.7698 - val_loss: 1.1747 - val_accuracy: 0.7370\n",
      "Epoch 4/9\n",
      "16/16 [==============================] - 0s 16ms/step - loss: 0.8493 - accuracy: 0.8131 - val_loss: 1.0404 - val_accuracy: 0.7740\n",
      "Epoch 5/9\n",
      "16/16 [==============================] - 0s 16ms/step - loss: 0.6614 - accuracy: 0.8530 - val_loss: 1.0176 - val_accuracy: 0.7820\n",
      "Epoch 6/9\n",
      "16/16 [==============================] - 0s 15ms/step - loss: 0.5278 - accuracy: 0.8856 - val_loss: 0.9636 - val_accuracy: 0.8080\n",
      "Epoch 7/9\n",
      "16/16 [==============================] - 0s 27ms/step - loss: 0.3834 - accuracy: 0.9191 - val_loss: 0.9525 - val_accuracy: 0.8110\n",
      "Epoch 8/9\n",
      "16/16 [==============================] - 0s 15ms/step - loss: 0.3510 - accuracy: 0.9256 - val_loss: 1.0458 - val_accuracy: 0.7880\n",
      "Epoch 9/9\n",
      "16/16 [==============================] - 0s 14ms/step - loss: 0.2828 - accuracy: 0.9379 - val_loss: 0.9650 - val_accuracy: 0.8150\n"
     ]
    }
   ],
   "source": [
    "# 3개 은닉층 \r\n",
    "model = models.Sequential()\r\n",
    "model.add(layers.Dense(64, activation='relu', input_shape=(10000,)))\r\n",
    "model.add(layers.Dense(64, activation='relu'))\r\n",
    "model.add(layers.Dense(64, activation='relu'))\r\n",
    "model.add(layers.Dense(46, activation='softmax'))\r\n",
    "\r\n",
    "# 모델 컴파일\r\n",
    "model.compile(optimizer ='rmsprop',\r\n",
    "              loss='categorical_crossentropy',\r\n",
    "              metrics =['accuracy'])\r\n",
    "\r\n",
    "# 모델 훈련\r\n",
    "history = model.fit(partial_x_train,\r\n",
    "                    partial_y_train,\r\n",
    "                    epochs = 9,\r\n",
    "                    batch_size =512,\r\n",
    "                    validation_data = (x_val,y_val))"
   ]
  },
  {
   "cell_type": "markdown",
   "metadata": {
    "id": "oMoruWfm2Uwz"
   },
   "source": [
    "----\r\n",
    "<h3> 3.6 주택 가격 예측 : 회귀 문제</h3>\r\n",
    "\r\n",
    "보스턴 주택 가격 데이터 셋 <br>\r\n",
    "506개 데이터 (train 404 / test 102)<br>\r\n",
    "각 특성의 스케일이 서로 다름"
   ]
  },
  {
   "cell_type": "code",
   "execution_count": null,
   "metadata": {
    "colab": {
     "base_uri": "https://localhost:8080/"
    },
    "id": "tdWeLDfR20PJ",
    "outputId": "832d7ce3-4d46-4eb2-b3ea-5f9b007ccaf8"
   },
   "outputs": [
    {
     "name": "stdout",
     "output_type": "stream",
     "text": [
      "Downloading data from https://storage.googleapis.com/tensorflow/tf-keras-datasets/boston_housing.npz\n",
      "57344/57026 [==============================] - 0s 0us/step\n"
     ]
    }
   ],
   "source": [
    "# 데이터셋 로드\r\n",
    "from keras.datasets import boston_housing\r\n",
    "\r\n",
    "(train_data, train_targets), (test_data, test_targets) = boston_housing.load_data()"
   ]
  },
  {
   "cell_type": "code",
   "execution_count": null,
   "metadata": {
    "id": "bY7BfHt93DRV"
   },
   "outputs": [],
   "source": [
    "# 데이터 정규화\r\n",
    "mean = train_data.mean(axis=0)\r\n",
    "train_data -= mean\r\n",
    "std = train_data.std(axis=0)\r\n",
    "train_data /= std\r\n",
    "\r\n",
    "test_data -= mean\r\n",
    "test_data /= std"
   ]
  },
  {
   "cell_type": "code",
   "execution_count": null,
   "metadata": {
    "id": "8HO2aNCg3sYL"
   },
   "outputs": [],
   "source": [
    "# 모델 정의\r\n",
    "from keras import models\r\n",
    "from keras import layers\r\n",
    "\r\n",
    "def build_model():\r\n",
    "  model = models.Sequential()\r\n",
    "  model.add(layers.Dense(64, activation='relu', input_shape=(train_data.shape[1],)))\r\n",
    "  model.add(layers.Dense(64, activation='relu'))\r\n",
    "  model.add(layers.Dense(1))\r\n",
    "  model.compile(optimizer='rmsprop', loss='mse', metrics=['mae'])\r\n",
    "  return model"
   ]
  },
  {
   "cell_type": "code",
   "execution_count": null,
   "metadata": {
    "colab": {
     "base_uri": "https://localhost:8080/"
    },
    "id": "RQPN7cKJ4jn5",
    "outputId": "0bb81619-5d22-4b9c-be67-bb5a19daf93d"
   },
   "outputs": [
    {
     "name": "stdout",
     "output_type": "stream",
     "text": [
      "처리중인 폴드 #  0\n",
      "처리중인 폴드 #  1\n",
      "처리중인 폴드 #  2\n",
      "처리중인 폴드 #  3\n"
     ]
    }
   ],
   "source": [
    "# k 겹 검증\r\n",
    "import numpy as np\r\n",
    "\r\n",
    "k=4\r\n",
    "num_val_samples =len(train_data) // k # 몫\r\n",
    "num_epochs =100\r\n",
    "all_scores =[]\r\n",
    "for i in range(k):\r\n",
    "  print('처리중인 폴드 # ', i)\r\n",
    "  val_data = train_data[i * num_val_samples: (i+1) * num_val_samples]\r\n",
    "  val_targets = train_targets[i * num_val_samples: (i+1)* num_val_samples]\r\n",
    "\r\n",
    "  partial_train_data = np.concatenate(\r\n",
    "      [train_data[:i * num_val_samples],\r\n",
    "       train_data[(i+1)* num_val_samples:]],\r\n",
    "       axis=0\r\n",
    "  )\r\n",
    "  \r\n",
    "  partial_train_targets = np.concatenate(\r\n",
    "      [train_targets[:i * num_val_samples],\r\n",
    "       train_targets[(i+1)* num_val_samples:]],\r\n",
    "       axis=0\r\n",
    "  )\r\n",
    "\r\n",
    "  model = build_model() \r\n",
    "  model.fit(partial_train_data , partial_train_targets, epochs=num_epochs, batch_size=1 , verbose=0)\r\n",
    "  val_mse, val_mae = model.evaluate(val_data,val_targets, verbose=0)\r\n",
    "  all_scores.append(val_mae)"
   ]
  },
  {
   "cell_type": "code",
   "execution_count": null,
   "metadata": {
    "colab": {
     "base_uri": "https://localhost:8080/",
     "height": 235
    },
    "id": "AhwR6BMG6ht-",
    "outputId": "464b1ced-387e-4c74-a45e-7b3fb2858e49"
   },
   "outputs": [
    {
     "name": "stdout",
     "output_type": "stream",
     "text": [
      "처리중인 폴드 #  0\n"
     ]
    },
    {
     "ename": "KeyError",
     "evalue": "ignored",
     "output_type": "error",
     "traceback": [
      "\u001b[0;31m---------------------------------------------------------------------------\u001b[0m",
      "\u001b[0;31mKeyError\u001b[0m                                  Traceback (most recent call last)",
      "\u001b[0;32m<ipython-input-61-97d91f4b9336>\u001b[0m in \u001b[0;36m<module>\u001b[0;34m()\u001b[0m\n\u001b[1;32m     20\u001b[0m   \u001b[0mmodel\u001b[0m \u001b[0;34m=\u001b[0m \u001b[0mbuild_model\u001b[0m\u001b[0;34m(\u001b[0m\u001b[0;34m)\u001b[0m\u001b[0;34m\u001b[0m\u001b[0;34m\u001b[0m\u001b[0m\n\u001b[1;32m     21\u001b[0m   \u001b[0mhistory\u001b[0m\u001b[0;34m=\u001b[0m\u001b[0mmodel\u001b[0m\u001b[0;34m.\u001b[0m\u001b[0mfit\u001b[0m\u001b[0;34m(\u001b[0m\u001b[0mpartial_train_data\u001b[0m \u001b[0;34m,\u001b[0m \u001b[0mpartial_train_targets\u001b[0m\u001b[0;34m,\u001b[0m \u001b[0mepochs\u001b[0m\u001b[0;34m=\u001b[0m\u001b[0mnum_epochs\u001b[0m\u001b[0;34m,\u001b[0m \u001b[0mbatch_size\u001b[0m\u001b[0;34m=\u001b[0m\u001b[0;36m1\u001b[0m \u001b[0;34m,\u001b[0m \u001b[0mverbose\u001b[0m\u001b[0;34m=\u001b[0m\u001b[0;36m0\u001b[0m\u001b[0;34m)\u001b[0m\u001b[0;34m\u001b[0m\u001b[0;34m\u001b[0m\u001b[0m\n\u001b[0;32m---> 22\u001b[0;31m   \u001b[0mmae_history\u001b[0m \u001b[0;34m=\u001b[0m \u001b[0mhistory\u001b[0m\u001b[0;34m.\u001b[0m\u001b[0mhistory\u001b[0m\u001b[0;34m[\u001b[0m\u001b[0;34m'val_mean_absolute_error'\u001b[0m\u001b[0;34m]\u001b[0m\u001b[0;34m\u001b[0m\u001b[0;34m\u001b[0m\u001b[0m\n\u001b[0m\u001b[1;32m     23\u001b[0m   \u001b[0mall_mae_histories\u001b[0m\u001b[0;34m.\u001b[0m\u001b[0mappend\u001b[0m\u001b[0;34m(\u001b[0m\u001b[0mmae_history\u001b[0m\u001b[0;34m)\u001b[0m\u001b[0;34m\u001b[0m\u001b[0;34m\u001b[0m\u001b[0m\n",
      "\u001b[0;31mKeyError\u001b[0m: 'val_mean_absolute_error'"
     ]
    }
   ],
   "source": [
    "num_epochs =500\r\n",
    "all_scores =[]\r\n",
    "for i in range(k):\r\n",
    "  print('처리중인 폴드 # ', i)\r\n",
    "  val_data = train_data[i * num_val_samples: (i+1) * num_val_samples]\r\n",
    "  val_targets = train_targets[i * num_val_samples: (i+1)* num_val_samples]\r\n",
    "\r\n",
    "  partial_train_data = np.concatenate(\r\n",
    "      [train_data[:i * num_val_samples],\r\n",
    "       train_data[(i+1)* num_val_samples:]],\r\n",
    "       axis=0\r\n",
    "  )\r\n",
    "  \r\n",
    "  partial_train_targets = np.concatenate(\r\n",
    "      [train_targets[:i * num_val_samples],\r\n",
    "       train_targets[(i+1)* num_val_samples:]],\r\n",
    "       axis=0\r\n",
    "  )\r\n",
    "\r\n",
    "  model = build_model() \r\n",
    "  history=model.fit(partial_train_data , partial_train_targets, epochs=num_epochs, batch_size=1 , verbose=0)\r\n",
    "  mae_history = history.history['val_mean_absolute_error']\r\n",
    "  all_mae_histories.append(mae_history)"
   ]
  },
  {
   "cell_type": "code",
   "execution_count": null,
   "metadata": {
    "id": "nDRqeY2c7jbw"
   },
   "outputs": [],
   "source": [
    "# 검증 평균 점수 기록\r\n",
    "average_mae_history = [ np.mean([x[i] for x in all_mae_histories]) for i in range(num_epochs)]"
   ]
  },
  {
   "cell_type": "code",
   "execution_count": null,
   "metadata": {
    "id": "v2JZ_E1G71KX"
   },
   "outputs": [],
   "source": [
    "plt.plot(range(1,len(average_mae_history)+1), average_mae_history)\r\n",
    "plt.xlabel('Epochs')\r\n",
    "plt.ylabel('Validation MAE')\r\n",
    "plt.show()"
   ]
  },
  {
   "cell_type": "code",
   "execution_count": null,
   "metadata": {
    "id": "TPUct-nC8GPk"
   },
   "outputs": [],
   "source": [
    "# 처음 10개 제외하고 다시 그리기\r\n",
    "def smooth_curve(points, factor =0.9):\r\n",
    "  smoothed_points =[]\r\n",
    "  for point in points:\r\n",
    "    if smoothed_points:\r\n",
    "      previous = smoothed_points[-1]\r\n",
    "      smoothed_points.append(previous * factor + point *(1-factor))\r\n",
    "    else:\r\n",
    "      smoothed_points.append(point)\r\n",
    "  return smoothed_points\r\n",
    "\r\n",
    "smooth_mae_history = smooth_curve(average_mae_history[10:])\r\n",
    "\r\n",
    "plt.plot(range(1,len(smooth_mae_history)+1), smooth_mae_history)\r\n",
    "plt.xlabel('Epochs')\r\n",
    "plt.ylabel('Validation MAE')\r\n",
    "plt.show()\r\n"
   ]
  }
 ],
 "metadata": {
  "accelerator": "GPU",
  "colab": {
   "name": "3장.ipynb",
   "provenance": []
  },
  "kernelspec": {
   "display_name": "Python 3",
   "language": "python",
   "name": "python3"
  },
  "language_info": {
   "codemirror_mode": {
    "name": "ipython",
    "version": 3
   },
   "file_extension": ".py",
   "mimetype": "text/x-python",
   "name": "python",
   "nbconvert_exporter": "python",
   "pygments_lexer": "ipython3",
   "version": "3.6.10"
  }
 },
 "nbformat": 4,
 "nbformat_minor": 4
}
