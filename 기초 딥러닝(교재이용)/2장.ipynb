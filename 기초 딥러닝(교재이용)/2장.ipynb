{
 "cells": [
  {
   "cell_type": "markdown",
   "metadata": {
    "id": "G6v88YPDYKgy"
   },
   "source": [
    "<h1> 신경망의 수학적 구성요소 </h1>"
   ]
  },
  {
   "cell_type": "markdown",
   "metadata": {
    "id": "GMoLd39qZAqi"
   },
   "source": [
    "<h3> 2.1 신경망과의 첫 만남 </h3><br>\r\n",
    "MNIST = 손글씨 숫자 분류를 학습하는 구체적인 신경망 예제 <br>\r\n",
    "딥러닝계의 \"hello world\" <br>\r\n",
    "6만 개의 훈련 이미지와 1만 개의 테스트 이미지로 구성"
   ]
  },
  {
   "cell_type": "code",
   "execution_count": 1,
   "metadata": {},
   "outputs": [],
   "source": [
    "from tensorflow import keras"
   ]
  },
  {
   "cell_type": "code",
   "execution_count": 2,
   "metadata": {},
   "outputs": [
    {
     "name": "stderr",
     "output_type": "stream",
     "text": [
      "Using TensorFlow backend.\n"
     ]
    }
   ],
   "source": [
    "import keras"
   ]
  },
  {
   "cell_type": "code",
   "execution_count": 3,
   "metadata": {
    "colab": {
     "base_uri": "https://localhost:8080/"
    },
    "id": "Zo0Ft5rCZG6e",
    "outputId": "e7b74983-5bca-461f-9f50-1b6df4a27743"
   },
   "outputs": [],
   "source": [
    "# MNIST 데이터 셋은 넘파이 배열 형태\r\n",
    "from keras.datasets import mnist\r\n",
    "(train_images, train_labels),(test_images, test_labels) = mnist.load_data() # train test split"
   ]
  },
  {
   "cell_type": "markdown",
   "metadata": {
    "id": "HrGMLoVLbO6t"
   },
   "source": [
    "레이블은 0~9까지 숫자 배열 <br>\r\n",
    "이미지와 레이블은 일대일 관계"
   ]
  },
  {
   "cell_type": "code",
   "execution_count": 2,
   "metadata": {
    "colab": {
     "base_uri": "https://localhost:8080/"
    },
    "id": "GhSus6yraH3s",
    "outputId": "ad6ad0cb-aab3-4e24-a2fc-1ec51e33c281"
   },
   "outputs": [
    {
     "name": "stdout",
     "output_type": "stream",
     "text": [
      "(60000, 28, 28)\n",
      "60000\n",
      "[5 0 4 ... 5 6 8]\n"
     ]
    }
   ],
   "source": [
    "#train \r\n",
    "print(train_images.shape)\r\n",
    "print(len(train_labels))\r\n",
    "print(train_labels)"
   ]
  },
  {
   "cell_type": "code",
   "execution_count": 3,
   "metadata": {
    "colab": {
     "base_uri": "https://localhost:8080/"
    },
    "id": "0nJCg_SQbeGH",
    "outputId": "b85f82a6-04f3-4d12-f090-671d4bbe36d0"
   },
   "outputs": [
    {
     "name": "stdout",
     "output_type": "stream",
     "text": [
      "(10000, 28, 28)\n",
      "10000\n",
      "[7 2 1 ... 4 5 6]\n"
     ]
    }
   ],
   "source": [
    "#test\r\n",
    "print(test_images.shape)\r\n",
    "print(len(test_labels))\r\n",
    "print(test_labels)"
   ]
  },
  {
   "cell_type": "markdown",
   "metadata": {
    "id": "ai2OVGnrcS80"
   },
   "source": [
    "<b>순서</b> <br>\r\n",
    "1. train 이미지와 레이블을 네트워크에 주입\r\n",
    "2. test 이미지에 대한 예측을 네트워크에 요청\r\n",
    "3. 이 예측이 test 레이블과 맞는지 확인"
   ]
  },
  {
   "cell_type": "code",
   "execution_count": 4,
   "metadata": {
    "id": "p6JIaATNclLk"
   },
   "outputs": [],
   "source": [
    "from keras import models\r\n",
    "from keras import layers\r\n",
    "\r\n",
    "network = models.Sequential() # 모델 생성\r\n",
    "# Dense 층 2개 생성\r\n",
    "network.add(layers.Dense(512,activation = 'relu', input_shape=(784,))) \r\n",
    "network.add(layers.Dense(10,activation = 'softmax')) # 10개의 확률 점수가 들어 있는 배열 반환"
   ]
  },
  {
   "cell_type": "markdown",
   "metadata": {
    "id": "tm_dV7Rtdmtu"
   },
   "source": [
    "신경망의 핵심 구성 요소\r\n",
    "- 층(layer) = 일종의 데이터 처리 필터\r\n",
    "<br>  층은 주어진 문제에 더 의미있는 표현을 입력된 데이터로부터 추출\r\n",
    "<br><br>\r\n",
    "딥러닝은 간단한 층을 연결하여 구성 <br>\r\n",
    "점진적으로 데이터를 정제하는 형태 <br><br>\r\n",
    "\r\n",
    "- 손실 함수 (loss function) : 훈련데이터에서 신경망의 성능을 측정하는 방법\r\n",
    "- 옵티마이저 (optimizer) : 손실 함수를 기반으로 네트워크를 업데이트하는 매커니즘\r\n",
    "- 훈련과 테스트 과정을 모니터링할 지표 (images)"
   ]
  },
  {
   "cell_type": "code",
   "execution_count": 5,
   "metadata": {
    "id": "Iabxg4gpeE4a"
   },
   "outputs": [],
   "source": [
    "# 컴파일 단계 \r\n",
    "network.compile(optimizer='rmsprop',\r\n",
    "                loss='categorical_crossentropy',\r\n",
    "                metrics = ['accuracy'])"
   ]
  },
  {
   "cell_type": "markdown",
   "metadata": {
    "id": "W9Nf749JfK_o"
   },
   "source": [
    "데이터를 0~1사이로 스케일을 조정함<br>\r\n",
    "<b>(신경망은 입력데이터의 스케일에 민감하여 적절한 데이터 전처리 과정이 필요)</b><br>\r\n",
    "이미지는 보통 픽셀의 최댓값인 255로 나누어 사용"
   ]
  },
  {
   "cell_type": "code",
   "execution_count": 6,
   "metadata": {
    "id": "woim4u-yfCJO"
   },
   "outputs": [],
   "source": [
    "# 이미지 데이터 준비\r\n",
    "train_images = train_images.reshape((60000,28*28)) # 배열 크기 변환 \r\n",
    "train_images = train_images.astype('float32')/255  # float 형태 자료형 변환\r\n",
    "\r\n",
    "test_images = test_images.reshape((10000,28*28))\r\n",
    "test_images = test_images.astype('float32')/255\r\n",
    "# 0~1 사이의 값을 가지는 float32 타입의 (60000, 28*28) 크기인 배열"
   ]
  },
  {
   "cell_type": "code",
   "execution_count": 7,
   "metadata": {
    "id": "nXGpLwHvgQP5"
   },
   "outputs": [],
   "source": [
    "# 레이블 준비\r\n",
    "from keras.utils import to_categorical\r\n",
    "# 레이블을 범주형으로 인코딩 \r\n",
    "train_labels = to_categorical(train_labels)\r\n",
    "test_labels = to_categorical(test_labels)"
   ]
  },
  {
   "cell_type": "code",
   "execution_count": 8,
   "metadata": {
    "colab": {
     "base_uri": "https://localhost:8080/"
    },
    "id": "D7PHb3YjgmlM",
    "outputId": "29b00433-7879-4a01-8060-e90e86f75d3c"
   },
   "outputs": [
    {
     "name": "stdout",
     "output_type": "stream",
     "text": [
      "WARNING:tensorflow:From D:\\anaconda\\lib\\site-packages\\keras\\backend\\tensorflow_backend.py:422: The name tf.global_variables is deprecated. Please use tf.compat.v1.global_variables instead.\n",
      "\n",
      "Epoch 1/5\n",
      "60000/60000 [==============================] - 4s 63us/step - loss: 0.2605 - accuracy: 0.9244\n",
      "Epoch 2/5\n",
      "60000/60000 [==============================] - 3s 42us/step - loss: 0.1042 - accuracy: 0.9689\n",
      "Epoch 3/5\n",
      "60000/60000 [==============================] - 2s 42us/step - loss: 0.0692 - accuracy: 0.9789\n",
      "Epoch 4/5\n",
      "60000/60000 [==============================] - 3s 44us/step - loss: 0.0499 - accuracy: 0.9846\n",
      "Epoch 5/5\n",
      "60000/60000 [==============================] - 3s 44us/step - loss: 0.0381 - accuracy: 0.9884\n"
     ]
    },
    {
     "data": {
      "text/plain": [
       "<keras.callbacks.callbacks.History at 0x1f117055d30>"
      ]
     },
     "execution_count": 8,
     "metadata": {},
     "output_type": "execute_result"
    }
   ],
   "source": [
    "network.fit(train_images, train_labels, epochs = 5 , batch_size =128)"
   ]
  },
  {
   "cell_type": "code",
   "execution_count": 9,
   "metadata": {
    "colab": {
     "base_uri": "https://localhost:8080/"
    },
    "id": "DQdDVzALhYi8",
    "outputId": "7714b006-ae6b-4bbb-bc25-c459c32334fe"
   },
   "outputs": [
    {
     "name": "stdout",
     "output_type": "stream",
     "text": [
      "10000/10000 [==============================] - 1s 57us/step\n"
     ]
    }
   ],
   "source": [
    "# test set\r\n",
    "test_loss , test_acc = network.evaluate(test_images, test_labels)"
   ]
  },
  {
   "cell_type": "code",
   "execution_count": 10,
   "metadata": {
    "colab": {
     "base_uri": "https://localhost:8080/"
    },
    "id": "k98smvTLhv_-",
    "outputId": "1359e31c-6d15-4853-9b5d-a86197bad001"
   },
   "outputs": [
    {
     "name": "stdout",
     "output_type": "stream",
     "text": [
      "test_acc :  0.982200026512146\n"
     ]
    }
   ],
   "source": [
    "print ('test_acc : ', test_acc)\r\n",
    "# 훈련 정확도와 테스트 정확도 사이의 차이는 과대 적합 때문\r\n",
    "# 과대적합 : 훈련 데이터보다 새로운 데이터에서 성능이 낮아지는 경향"
   ]
  },
  {
   "cell_type": "markdown",
   "metadata": {
    "id": "_4t1dBK6iOj_"
   },
   "source": [
    "<h3> 2.2 신경망을 위한 데이터 표현 </h3><br>\r\n",
    "\r\n",
    "tensor : 데이터를 위한 컨테이너 - 최근 모든 머신 러닝 시스템은 데이터 구조로 사용<br>\r\n",
    "(머신러닝의 기본 구성요소)\r\n",
    "\r\n",
    "<h5> 2.2.1 스칼라(= 0D 텐서)</h5>\r\n",
    "- 하나의 숫자만 담고 있는 텐서 <br>\r\n",
    "- 넘파이에서는 float32 , float64 타입의 숫자가 스칼라 텐서(=배열 스칼라)<br>\r\n",
    "- ndim - 넘파이 배열의 축(차원) 개수 확인 (스칼라 텐서는 0)"
   ]
  },
  {
   "cell_type": "code",
   "execution_count": null,
   "metadata": {
    "colab": {
     "base_uri": "https://localhost:8080/"
    },
    "id": "ieusshmuh0N-",
    "outputId": "c6a81fe2-f73f-4110-8ede-0c8fd45278c8"
   },
   "outputs": [
    {
     "name": "stdout",
     "output_type": "stream",
     "text": [
      "12\n",
      "0\n"
     ]
    }
   ],
   "source": [
    "# 스칼라\r\n",
    "import numpy as np\r\n",
    "x = np.array(12)\r\n",
    "print(x)\r\n",
    "print(x.ndim)"
   ]
  },
  {
   "cell_type": "markdown",
   "metadata": {
    "id": "UVAlyZHcvlFZ"
   },
   "source": [
    "<h5>2.2.2 벡터 (1D 텐서)</h5> \r\n",
    "- 숫자의 배열 \r\n",
    "- 하나의 축을 가짐\r\n",
    "\r\n",
    "\r\n"
   ]
  },
  {
   "cell_type": "code",
   "execution_count": null,
   "metadata": {
    "colab": {
     "base_uri": "https://localhost:8080/"
    },
    "id": "KptpL6eNj7ko",
    "outputId": "34622a5e-09c9-42c5-f445-d750cdb332ae"
   },
   "outputs": [
    {
     "name": "stdout",
     "output_type": "stream",
     "text": [
      "[12  3  6 14  7]\n",
      "1\n"
     ]
    }
   ],
   "source": [
    "# 벡터\r\n",
    "import numpy as np\r\n",
    "x = np.array([12,3,6,14,7]) # 5차원 벡터 != 5차원 텐서 (혼동 주의)\r\n",
    "print (x)\r\n",
    "print (x.ndim)"
   ]
  },
  {
   "cell_type": "markdown",
   "metadata": {
    "id": "AajcLoEyyMW1"
   },
   "source": [
    "<h5> 2.2.3 행렬(2D 텐서) </h5>\r\n",
    "- 벡터의 배열\r\n",
    "- 행(row 가로)  과 열(column 세로)으로 구성"
   ]
  },
  {
   "cell_type": "code",
   "execution_count": null,
   "metadata": {
    "colab": {
     "base_uri": "https://localhost:8080/"
    },
    "id": "bkOuM9xxylj9",
    "outputId": "c1a52cf4-95bf-4eb4-b644-f64337e33427"
   },
   "outputs": [
    {
     "data": {
      "text/plain": [
       "2"
      ]
     },
     "execution_count": 20,
     "metadata": {
      "tags": []
     },
     "output_type": "execute_result"
    }
   ],
   "source": [
    "# 행렬\r\n",
    "x = np.array([[5,78,2,34,0],\r\n",
    "             [6,79,3,35,1],\r\n",
    "             [7,80,4,36,2]])\r\n",
    "x.ndim"
   ]
  },
  {
   "cell_type": "markdown",
   "metadata": {
    "id": "rumyXtyByz1t"
   },
   "source": [
    "<h5> 2.2.4 3D 텐서와 고차원 텐서 </h5>\r\n",
    "- 3D 텐서들을 하나의 배열로 합치면 4D 텐서를 만드는 식으로 이어짐 <BR>\r\n",
    "- 딥러닝은 0D ~ 4D 까지  (단 영상 데이터는 5D까지)"
   ]
  },
  {
   "cell_type": "code",
   "execution_count": null,
   "metadata": {
    "colab": {
     "base_uri": "https://localhost:8080/"
    },
    "id": "FkMISV8SzT4W",
    "outputId": "67a187a9-3e30-43a9-eac0-a053fa63df8e"
   },
   "outputs": [
    {
     "data": {
      "text/plain": [
       "3"
      ]
     },
     "execution_count": 21,
     "metadata": {
      "tags": []
     },
     "output_type": "execute_result"
    }
   ],
   "source": [
    "x = np.array([[[5,78,2,34,0],\r\n",
    "             [6,79,3,35,1],\r\n",
    "             [7,80,4,36,2]],[[5,78,2,34,0],\r\n",
    "             [6,79,3,35,1],\r\n",
    "             [7,80,4,36,2]],[[5,78,2,34,0],\r\n",
    "             [6,79,3,35,1],\r\n",
    "             [7,80,4,36,2]]])\r\n",
    "x.ndim"
   ]
  },
  {
   "cell_type": "markdown",
   "metadata": {
    "id": "a1Xfe3ehzi3q"
   },
   "source": [
    "텐서 3개의 핵심 속성<br>\r\n",
    "1. 축의 개수(랭크) : ndim\r\n",
    "2. 크기 : shape\r\n",
    "3. 데이터 타입 : dtype \r\n",
    " <br>ex) float32,uint8, float64, char 등 "
   ]
  },
  {
   "cell_type": "code",
   "execution_count": null,
   "metadata": {
    "colab": {
     "base_uri": "https://localhost:8080/"
    },
    "id": "93ThxCXS0Eg8",
    "outputId": "e4b430ce-8aee-49d8-ccb9-a655a3b3464f"
   },
   "outputs": [
    {
     "name": "stdout",
     "output_type": "stream",
     "text": [
      "3\n",
      "(60000, 28, 28)\n",
      "uint8\n"
     ]
    }
   ],
   "source": [
    "# MNIST 데이터 텐서\r\n",
    "from keras.datasets import mnist\r\n",
    "(train_images, train_labels), (test_images,test_labels) = mnist.load_data()\r\n",
    "\r\n",
    "# 축의 개수\r\n",
    "print(train_images.ndim)\r\n",
    "# 배열의 크기\r\n",
    "print(train_images.shape)\r\n",
    "# 데이터 타입\r\n",
    "print(train_images.dtype)\r\n",
    "\r\n",
    "# 8비트 정수형 3D 텐서"
   ]
  },
  {
   "cell_type": "code",
   "execution_count": null,
   "metadata": {
    "colab": {
     "base_uri": "https://localhost:8080/",
     "height": 265
    },
    "id": "Wgl163XR0Idg",
    "outputId": "2bef832c-a382-4042-bb6a-54c17c08ae9e"
   },
   "outputs": [
    {
     "data": {
      "image/png": "[encoded data removed]",
      "text/plain": [
       "<Figure size 432x288 with 1 Axes>"
      ]
     },
     "metadata": {
      "needs_background": "light",
      "tags": []
     },
     "output_type": "display_data"
    }
   ],
   "source": [
    "# 5번째 샘플 확인\r\n",
    "digit = train_images[4]\r\n",
    "\r\n",
    "import matplotlib.pyplot as plt\r\n",
    "plt.imshow(digit, cmap=plt.cm.binary)\r\n",
    "plt.show()"
   ]
  },
  {
   "cell_type": "markdown",
   "metadata": {
    "id": "EIzqoeeq0-1s"
   },
   "source": [
    "slicing : 배열에 있는 특정 원소들을 선택하는것"
   ]
  },
  {
   "cell_type": "code",
   "execution_count": null,
   "metadata": {
    "colab": {
     "base_uri": "https://localhost:8080/"
    },
    "id": "rXgGgJha2HEh",
    "outputId": "d070c4b6-fe07-4ce6-ad62-2d18ea0e3f8b"
   },
   "outputs": [
    {
     "name": "stdout",
     "output_type": "stream",
     "text": [
      "(90, 28, 28)\n",
      "(90, 28, 28)\n",
      "(90, 28, 28)\n"
     ]
    }
   ],
   "source": [
    "# 11 번째 에서 101번째 까지(101번 포함 x)\r\n",
    "my_slice = train_images[10:100]\r\n",
    "print(my_slice.shape)\r\n",
    "\r\n",
    "# 위와 동일 결과\r\n",
    "my_slice = train_images[10:100,:,:]\r\n",
    "print(my_slice.shape)\r\n",
    "\r\n",
    "# 위와 동일\r\n",
    "my_slice = train_images[10:100,0:28,0:28]\r\n",
    "print(my_slice.shape)"
   ]
  },
  {
   "cell_type": "code",
   "execution_count": null,
   "metadata": {
    "colab": {
     "base_uri": "https://localhost:8080/",
     "height": 265
    },
    "id": "dSpplLPJ2QQZ",
    "outputId": "1e64a129-679c-443e-da5f-9985fb850dbe"
   },
   "outputs": [
    {
     "data": {
      "image/png": "[encoded data removed]",
      "text/plain": [
       "<Figure size 432x288 with 1 Axes>"
      ]
     },
     "metadata": {
      "needs_background": "light",
      "tags": []
     },
     "output_type": "display_data"
    }
   ],
   "source": [
    "my_slice = train_images[4,7:-7,7:-7]\r\n",
    "plt.imshow (my_slice, cmap=plt.cm.binary)\r\n",
    "plt.show()"
   ]
  },
  {
   "cell_type": "code",
   "execution_count": null,
   "metadata": {
    "colab": {
     "base_uri": "https://localhost:8080/",
     "height": 265
    },
    "id": "XAhgkB8S3Kap",
    "outputId": "34de00f7-7d9b-4848-bb7d-92fd2708980b"
   },
   "outputs": [
    {
     "data": {
      "image/png": "[encoded data removed]",
      "text/plain": [
       "<Figure size 432x288 with 1 Axes>"
      ]
     },
     "metadata": {
      "needs_background": "light",
      "tags": []
     },
     "output_type": "display_data"
    }
   ],
   "source": [
    "my_slice = train_images[4,14:,14:]\r\n",
    "plt.imshow (my_slice, cmap=plt.cm.binary)\r\n",
    "plt.show()"
   ]
  },
  {
   "cell_type": "markdown",
   "metadata": {
    "id": "6hS14FEN3UeD"
   },
   "source": [
    "딥러닝에서 사용하는 모든 데이터 텐서의 첫번째 축은 샘플 축이다. \r\n",
    "<br> MNIST 예제에서는 숫자 이미지가 샘플\r\n",
    "<BR> <b>딥러닝 모델은 한 번에 전체 데이터셋을 처리하지 않는다. </b>\r\n",
    "- 데이터를 작은 배치로 나눔 \r\n"
   ]
  },
  {
   "cell_type": "markdown",
   "metadata": {
    "id": "_-PhvytL4D9b"
   },
   "source": [
    "<h5> 2.2.9 벡터 데이터</h5>\r\n",
    "- 대부분의 경우 해당<br>\r\n",
    "- 배치 데이터는 2D 텐서로 인코딩<br>\r\n",
    "- 첫번째 축은 샘플 축 / 두번째 축은 특성 축<br>\r\n",
    "ex) 인구통계, 텍스트 문서 데이터 셋 \r\n",
    "\r\n",
    "<h5> 2.2.10 시계열 데이터 또는 시퀸스 데이터</h5>\r\n",
    "- 데이터에서 시간이 중요할 때<br>\r\n",
    "- 샘플은 벡터의 시퀸스로 인코딩 되어 배치 데이터는 3D 텐서<br>\r\n",
    "- 관례적으로 시간 축은 항상 두 번째 축<br>\r\n",
    "ex) 주식가격데이터셋, 트윗 데이터 셋\r\n",
    "\r\n",
    "<h5> 2.2.11 이미지 데이터 </h5>\r\n",
    "- 높이, 너비, 컬러 채널의 3차원 (3D 텐서)<br>\r\n",
    "(흑백은 컬러가 1개라서 차원크기는 1) <br>\r\n",
    "- 이미지 텐서의 크기를 지정하는 방식은 2가지<br>\r\n",
    "1. 채널 마지막 방식 (텐서플로 방식)\r\n",
    " <br>   (sample, height, width, color_depth) <br>\r\n",
    "2. 채널 우선 방식 (씨아노 방식)<br>\r\n",
    "(sample, color_depth, height , width) <br>\r\n",
    "<b>케라스는 두 형식 모두 지원 </b>\r\n",
    "\r\n",
    "<h5> 2.2.12 비디오 데이터 </h5>\r\n",
    "- 5D 텐서<br>\r\n",
    "ex) 60초 짜리 144x256 유튜브 비디오 클립을 초당 4프레임으로 샘플링하면 240<br>\r\n",
    "배치 - (4,240,144,256,3) <br>\r\n",
    "- 용량이 크기 때문에 실생활에서 접하는 비디오는 높은 압축률로 압축되어 있음 "
   ]
  },
  {
   "cell_type": "markdown",
   "metadata": {
    "id": "gZ1bBJ4B7K5F"
   },
   "source": [
    "<h3> 2.3 신경망의 톱니바퀴 : 텐서 연산"
   ]
  },
  {
   "cell_type": "markdown",
   "metadata": {
    "id": "Kf5Aozke70Ow"
   },
   "source": [
    "relu 함수 : 입력이 0보다 크면 입력을 출력 , 0보다 작으면 0 출력"
   ]
  },
  {
   "cell_type": "code",
   "execution_count": null,
   "metadata": {
    "id": "UV9j1j9P9B6z"
   },
   "outputs": [],
   "source": [
    "def naive_relu(x):\r\n",
    "  assert len(x.shape) == 2\r\n",
    "# assert : 뒤에 조건이 true 가 아니면 오류를 냄 (가정 설정문)\r\n",
    "  x = x.copy()\r\n",
    "  for i in range(x.shape[0]):\r\n",
    "    for j in range(x.shape[1]):\r\n",
    "      x[i,j]= max(x[i,j], 0 )\r\n",
    "\r\n",
    "  return x\r\n",
    "\r\n",
    "# 덧셈\r\n",
    "\r\n",
    "def naive_add(x,y):\r\n",
    "  assert len(x.shape) ==2\r\n",
    "  assert x.shape == y.shape\r\n",
    "\r\n",
    "  x= x.copy()\r\n",
    "  for i in range(x.shape[0]):\r\n",
    "    for j in range(x.shape[1]):\r\n",
    "      x[i,j] += y[i,j]\r\n",
    "  return x"
   ]
  },
  {
   "cell_type": "markdown",
   "metadata": {
    "id": "2vfIij8s9tGa"
   },
   "source": [
    "<b> 브로드캐스팅 </b>\r\n",
    "<br>- 크기가 다른 두 텐서가 더하면 작은 텐서가 큰 텐서의 크기에 맞춤\r\n",
    "<br> 단계<br>\r\n",
    "1. 큰 텐서의 ndim 에 맞도록 작은 텐서에 축이 추가\r\n",
    "2. 작은 텐서가 새 축을 따라서 큰 텐서의 크기에 맞도록 반복\r\n"
   ]
  },
  {
   "cell_type": "code",
   "execution_count": null,
   "metadata": {
    "colab": {
     "base_uri": "https://localhost:8080/"
    },
    "id": "sc_brIpd_nsH",
    "outputId": "96200cd4-f0ac-4321-8060-e764b2bd2a5e"
   },
   "outputs": [
    {
     "name": "stdout",
     "output_type": "stream",
     "text": [
      "2\n",
      "(3, 4)\n",
      "1\n",
      "(4,)\n"
     ]
    }
   ],
   "source": [
    "import numpy as np\r\n",
    "x =np.array([[111,2,3,4],[5,6,7,8],[9,10,11,12]])\r\n",
    "print(x.ndim)\r\n",
    "print(x.shape)\r\n",
    "y = np.array([41,51,31,41])\r\n",
    "print(y.ndim)\r\n",
    "print(y.shape)"
   ]
  },
  {
   "cell_type": "code",
   "execution_count": null,
   "metadata": {
    "colab": {
     "base_uri": "https://localhost:8080/"
    },
    "id": "RdFGbAU4_wb8",
    "outputId": "06ecf5f2-7d93-482e-e797-2451cfa170ea"
   },
   "outputs": [
    {
     "name": "stdout",
     "output_type": "stream",
     "text": [
      "[[111  51  31  41]\n",
      " [ 41  51  31  41]\n",
      " [ 41  51  31  41]]\n",
      "(3, 4)\n"
     ]
    }
   ],
   "source": [
    "print(np.maximum(x,y))\r\n",
    "print(np.maximum(x,y).shape)\r\n"
   ]
  },
  {
   "cell_type": "markdown",
   "metadata": {
    "id": "vvGfml8OAHO6"
   },
   "source": [
    "<b> 텐서 점곱 (텐서 곱셈)</b><br> ??\r\n",
    "- 가장 널리 사용되고 유용한 텐서 연산<br>\r\n",
    "- dot 연산 사용<br>\r\n",
    "- 원소 개수가 같은 벡터끼리 점곱이 가능\r\n"
   ]
  },
  {
   "cell_type": "markdown",
   "metadata": {
    "id": "81x8sRiRAWfJ"
   },
   "source": [
    "<b> 텐서 크기 변환 </b><br>\r\n",
    "- reshape 열과 행을 재배열"
   ]
  },
  {
   "cell_type": "code",
   "execution_count": null,
   "metadata": {
    "colab": {
     "base_uri": "https://localhost:8080/"
    },
    "id": "IVU1r4WrCgTa",
    "outputId": "bfe9e320-8976-4fe9-991e-63cb1d9a23da"
   },
   "outputs": [
    {
     "name": "stdout",
     "output_type": "stream",
     "text": [
      "(3, 2)\n"
     ]
    }
   ],
   "source": [
    "x = np.array([[0.,1.],[2.,3.],[4.,5.]])\r\n",
    "print(x.shape)"
   ]
  },
  {
   "cell_type": "code",
   "execution_count": null,
   "metadata": {
    "colab": {
     "base_uri": "https://localhost:8080/"
    },
    "id": "2aYqjOZyCyx6",
    "outputId": "86742421-32f6-4777-bdee-c068f1e7e7e5"
   },
   "outputs": [
    {
     "data": {
      "text/plain": [
       "array([[0.],\n",
       "       [1.],\n",
       "       [2.],\n",
       "       [3.],\n",
       "       [4.],\n",
       "       [5.]])"
      ]
     },
     "execution_count": 51,
     "metadata": {
      "tags": []
     },
     "output_type": "execute_result"
    }
   ],
   "source": [
    "x = x.reshape((6,1))\r\n",
    "x"
   ]
  },
  {
   "cell_type": "code",
   "execution_count": null,
   "metadata": {
    "colab": {
     "base_uri": "https://localhost:8080/"
    },
    "id": "tAZz_txqDEHM",
    "outputId": "0c7177c3-9e6b-417b-96bb-e709573aaa71"
   },
   "outputs": [
    {
     "data": {
      "text/plain": [
       "array([[0., 1., 2.],\n",
       "       [3., 4., 5.]])"
      ]
     },
     "execution_count": 52,
     "metadata": {
      "tags": []
     },
     "output_type": "execute_result"
    }
   ],
   "source": [
    "x =x.reshape((2,3))\r\n",
    "x"
   ]
  },
  {
   "cell_type": "code",
   "execution_count": null,
   "metadata": {
    "colab": {
     "base_uri": "https://localhost:8080/"
    },
    "id": "XR44z7OIDLCg",
    "outputId": "88a0f9db-827b-4686-9769-22648d0f85e9"
   },
   "outputs": [
    {
     "data": {
      "text/plain": [
       "array([[0., 3.],\n",
       "       [1., 4.],\n",
       "       [2., 5.]])"
      ]
     },
     "execution_count": 53,
     "metadata": {
      "tags": []
     },
     "output_type": "execute_result"
    }
   ],
   "source": [
    "# 전치  : 행과 열을 바꿈\r\n",
    "np.transpose(x)"
   ]
  },
  {
   "cell_type": "markdown",
   "metadata": {
    "id": "jBW479E9Dfu2"
   },
   "source": [
    "<h3> 2.4  신경망의 엔진 : 그래디언트 기반 최적화 </h3>\r\n",
    "초기에는 가중치 행렬이 작은 난수로 채워져 있음 (무작위 초기화 단계) = 의미없는 표현 <br>\r\n",
    "피드백 신호에 기초하여 가중치가 점진적으로 조정 = 훈련(머신러닝 학습의 핵심)\r\n",
    "\r\n"
   ]
  },
  {
   "cell_type": "markdown",
   "metadata": {
    "id": "BG0qwAz5EV5r"
   },
   "source": [
    "가중치를 업데이트 하는 방법으로 네트워크의 모든 가중치에 반복을 하면 굉장히 비효율적이다<br>\r\n",
    "but 신경망에 사용된 모든 연산이 <b>미분 가능</b> 하다는 장점을 사용하여 네트워크 가중치에 대한 손실의 <b>그래디언트</b>를 계산하는 것이 훨씬 더 좋은 방법"
   ]
  },
  {
   "cell_type": "markdown",
   "metadata": {
    "id": "KddMU5PmGLvp"
   },
   "source": [
    "변화율 , 그래디언트 ..."
   ]
  },
  {
   "cell_type": "markdown",
   "metadata": {
    "id": "QxvFjUzwHiFD"
   },
   "source": [
    "<b> 확률적 경사 하강법 </b><br>\r\n",
    "- 함수의 최솟값은 변화율이 0인 지점 <br>\r\n",
    "<br>\r\n",
    "미니 배치 확률적 경사 하강법 (미니 배치 SGD)\r\n",
    "1. 훈련 데이터 x 에 상응하는 타깃 y를 추출\r\n",
    "2. x로 fit 하여 y_pred 구함\r\n",
    "3. y_pred 와 y 사이의 오차로 손실 구함\r\n",
    "4. 손실 함수의 그래디언트를 계산(역방향 패스)\r\n",
    "5. 그래디언트의 반대 방향으로 파라미터를 조금 이동<br>\r\n",
    "\r\n",
    "step 값을 적절히 고르는 것이 중요<br>\r\n",
    "- 너무 작으면 많은 반복이 필요 & 지역 최솟값에 갇힐 수 있음<br>\r\n",
    "- 너무 크면 손실 함수 곡선에서 완전히 임의의 위치로 이동할 수도 있음 <br>\r\n",
    "\r\n",
    "배치 SGD : 반복마다 하나의 샘플과 하나의 타깃을 뽑는 것 <BR>\r\n",
    "(더 정확하게 업데이트되지만 더 많은 비용이 듬)<BR>\r\n",
    "\r\n",
    "여러까지 SGD 변종이 많이 있다. <BR>\r\n",
    "ex) 모멘텀 사용 SGD , Adagrad, RMSProp 등 <br>\r\n",
    "이런 방법들을 최적화방법 = 옵티마이저 라고 부른다<br>\r\n",
    "\r\n",
    "모멘텀 : SGD에 있는 2개의 문제점인 수렴 속도와 지역 최솟값을 해결<BR>\r\n",
    "- 현재 기울기 값 뿐만 아니라 현재 속도를 함께 고려하여 각 단계에서 공을 움직임"
   ]
  },
  {
   "cell_type": "markdown",
   "metadata": {
    "id": "JyJLVR7vI--D"
   },
   "source": [
    "<B> 변화율 연결 : 역전파 알고리즘 </B> <br>\r\n",
    "역전파 알고리즘 : 연쇄 법칙을 신경망의 그래디언트 계산에 적용하여 역전파 알고리즘 (후진 모드 자동 미분) <br>\r\n",
    "- 역전파는 최종 손실 값에서부터 시작<br>\r\n",
    "- 연쇄 법칙을 적용하야 최상위 층에서 하위층까지 거꾸로 진행<br>\r\n",
    "\r\n",
    "기호 미분 <br>\r\n",
    "= 변화율이 알려진 연산들로 연결되어 있으면 네트워크 파라미터와 그래디언트 값을 매핑하는 그래디언트 함수를 계산할 수 있다는 의미 <br>\r\n",
    "\r\n"
   ]
  },
  {
   "cell_type": "code",
   "execution_count": null,
   "metadata": {
    "id": "44m-MCibNv9H"
   },
   "outputs": [],
   "source": []
  }
 ],
 "metadata": {
  "accelerator": "GPU",
  "colab": {
   "collapsed_sections": [],
   "name": "2장",
   "provenance": []
  },
  "kernelspec": {
   "display_name": "[python36.x]",
   "language": "python",
   "name": "lee36"
  },
  "language_info": {
   "codemirror_mode": {
    "name": "ipython",
    "version": 3
   },
   "file_extension": ".py",
   "mimetype": "text/x-python",
   "name": "python",
   "nbconvert_exporter": "python",
   "pygments_lexer": "ipython3",
   "version": "3.6.10"
  }
 },
 "nbformat": 4,
 "nbformat_minor": 4
}
