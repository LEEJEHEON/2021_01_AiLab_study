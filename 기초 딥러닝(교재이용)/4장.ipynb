{
 "cells": [
  {
   "cell_type": "markdown",
   "id": "dutch-wellington",
   "metadata": {},
   "source": [
    "<h1> 4장 머신 러닝의 기본 요소 </h1>"
   ]
  },
  {
   "cell_type": "code",
   "execution_count": null,
   "id": "turkish-warning",
   "metadata": {},
   "outputs": [],
   "source": []
  }
 ],
 "metadata": {
  "kernelspec": {
   "display_name": "[python36.x]",
   "language": "python",
   "name": "lee36"
  },
  "language_info": {
   "codemirror_mode": {
    "name": "ipython",
    "version": 3
   },
   "file_extension": ".py",
   "mimetype": "text/x-python",
   "name": "python",
   "nbconvert_exporter": "python",
   "pygments_lexer": "ipython3",
   "version": "3.6.10"
  }
 },
 "nbformat": 4,
 "nbformat_minor": 5
}
