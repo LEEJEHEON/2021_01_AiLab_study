{
 "cells": [
  {
   "cell_type": "code",
   "execution_count": 32,
   "metadata": {},
   "outputs": [],
   "source": [
    "import os\n",
    "import shutil\n",
    "\n",
    "count = 0\n",
    "car_dic = {}\n",
    "\n",
    "for car in car_list:\n",
    "    for currentdir, dirs, files in os.walk(r\"D:/jupyter/연구 COLAB/YOLO/kcar/Hyundai/Hyundai/Hyundai/\" +car):\n",
    "        for file in files :\n",
    "            count += 1\n",
    "            #print(currentdir+r\"//\"+file) \n",
    "    car_dic[car] = count\n",
    "    count = 0 "
   ]
  },
  {
   "cell_type": "code",
   "execution_count": 33,
   "metadata": {},
   "outputs": [
    {
     "data": {
      "text/plain": [
       "{'G80 스포츠': 605,\n",
       " 'G90': 714,\n",
       " 'i30': 1296,\n",
       " 'KONA 1.6T': 840,\n",
       " '그랜저': 770,\n",
       " '그랜저 HG240': 940,\n",
       " '그랜저 IG': 627,\n",
       " '더뉴그랜드스타렉스': 509,\n",
       " '더뉴아반떼 AD': 653,\n",
       " '맥스크루즈': 605,\n",
       " '벨로스터': 620,\n",
       " '소나타': 635,\n",
       " '소나타 LF': 653,\n",
       " '소나타 LPI': 646,\n",
       " '소나타 NF': 605,\n",
       " '소나타 YF': 762,\n",
       " '소나타 뉴라이즈': 725,\n",
       " '소나타 하이브리드': 664,\n",
       " '스타렉스': 614,\n",
       " '싼타페': 1282,\n",
       " '아반떼 AD': 627,\n",
       " '아반떼 MD': 636,\n",
       " '아반떼 XD': 639,\n",
       " '아슬란': 659,\n",
       " '아이오닉 일렉트릭': 620,\n",
       " '아이오닉 하이브리드': 633,\n",
       " '에쿠스': 619,\n",
       " '엑센트': 641,\n",
       " '제네시스 G380': 652,\n",
       " '제네시스 G70': 600,\n",
       " '제네시스 G80': 638,\n",
       " '투싼': 1931,\n",
       " '투싼 1.7D': 628,\n",
       " '팰리세이드': 628}"
      ]
     },
     "execution_count": 33,
     "metadata": {},
     "output_type": "execute_result"
    }
   ],
   "source": [
    "car_dic"
   ]
  },
  {
   "cell_type": "code",
   "execution_count": 29,
   "metadata": {},
   "outputs": [
    {
     "data": {
      "text/plain": [
       "24916"
      ]
     },
     "execution_count": 29,
     "metadata": {},
     "output_type": "execute_result"
    }
   ],
   "source": [
    "count"
   ]
  },
  {
   "cell_type": "code",
   "execution_count": 34,
   "metadata": {},
   "outputs": [
    {
     "data": {
      "text/plain": [
       "[('투싼', 1931),\n",
       " ('i30', 1296),\n",
       " ('싼타페', 1282),\n",
       " ('그랜저 HG240', 940),\n",
       " ('KONA 1.6T', 840),\n",
       " ('그랜저', 770),\n",
       " ('소나타 YF', 762),\n",
       " ('소나타 뉴라이즈', 725),\n",
       " ('G90', 714),\n",
       " ('소나타 하이브리드', 664),\n",
       " ('아슬란', 659),\n",
       " ('더뉴아반떼 AD', 653),\n",
       " ('소나타 LF', 653),\n",
       " ('제네시스 G380', 652),\n",
       " ('소나타 LPI', 646),\n",
       " ('엑센트', 641),\n",
       " ('아반떼 XD', 639),\n",
       " ('제네시스 G80', 638),\n",
       " ('아반떼 MD', 636),\n",
       " ('소나타', 635),\n",
       " ('아이오닉 하이브리드', 633),\n",
       " ('투싼 1.7D', 628),\n",
       " ('팰리세이드', 628),\n",
       " ('그랜저 IG', 627),\n",
       " ('아반떼 AD', 627),\n",
       " ('벨로스터', 620),\n",
       " ('아이오닉 일렉트릭', 620),\n",
       " ('에쿠스', 619),\n",
       " ('스타렉스', 614),\n",
       " ('G80 스포츠', 605),\n",
       " ('맥스크루즈', 605),\n",
       " ('소나타 NF', 605),\n",
       " ('제네시스 G70', 600),\n",
       " ('더뉴그랜드스타렉스', 509)]"
      ]
     },
     "execution_count": 34,
     "metadata": {},
     "output_type": "execute_result"
    }
   ],
   "source": [
    "sorted(car_dic.items(), key=lambda x: x[1], reverse=True)\n"
   ]
  },
  {
   "cell_type": "code",
   "execution_count": 1,
   "metadata": {},
   "outputs": [],
   "source": [
    "import os\n",
    "import shutil\n",
    "\n",
    "car_list = [\"Genesis-G70\",\"Genesis-G80\",\"Genesis-G80 Sport\",\"Genesis-G90\",\"Genesis-G380\"]\n",
    "count = 0\n",
    "car_dic = {}\n",
    "\n",
    "for car in car_list:\n",
    "    for currentdir, dirs, files in os.walk(r\"D:/jupyter/연구 COLAB/YOLO/Genesis/\" +car):\n",
    "        for file in files :\n",
    "            count += 1\n",
    "            #print(currentdir+r\"//\"+file) \n",
    "    car_dic[car] = count\n",
    "    count = 0 "
   ]
  },
  {
   "cell_type": "code",
   "execution_count": 2,
   "metadata": {},
   "outputs": [
    {
     "data": {
      "text/plain": [
       "{'Genesis-G70': 600,\n",
       " 'Genesis-G80': 606,\n",
       " 'Genesis-G80 Sport': 600,\n",
       " 'Genesis-G90': 622,\n",
       " 'Genesis-G380': 612}"
      ]
     },
     "execution_count": 2,
     "metadata": {},
     "output_type": "execute_result"
    }
   ],
   "source": [
    "car_dic"
   ]
  },
  {
   "cell_type": "code",
   "execution_count": null,
   "metadata": {},
   "outputs": [],
   "source": []
  }
 ],
 "metadata": {
  "kernelspec": {
   "display_name": "Python 3",
   "language": "python",
   "name": "python3"
  },
  "language_info": {
   "codemirror_mode": {
    "name": "ipython",
    "version": 3
   },
   "file_extension": ".py",
   "mimetype": "text/x-python",
   "name": "python",
   "nbconvert_exporter": "python",
   "pygments_lexer": "ipython3",
   "version": "3.6.10"
  }
 },
 "nbformat": 4,
 "nbformat_minor": 5
}
